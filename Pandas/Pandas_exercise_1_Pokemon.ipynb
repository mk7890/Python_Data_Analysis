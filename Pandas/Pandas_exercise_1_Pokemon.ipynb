{
  "nbformat": 4,
  "nbformat_minor": 0,
  "metadata": {
    "colab": {
      "provenance": []
    },
    "kernelspec": {
      "name": "python3",
      "display_name": "Python 3"
    },
    "language_info": {
      "name": "python"
    }
  },
  "cells": [
    {
      "cell_type": "markdown",
      "source": [
        "# Understanding Missing Completely at Random (MCAR) in Pandas\n",
        "# Pokemon\n",
        "# Introduction:\n",
        "This time you will create the data.\n",
        "\n",
        "Step 1. Import the necessary libraries\n",
        "Step 2. Create a data dictionary that looks like the DataFrame below\n",
        "Step 3. Assign it to a variable called pokemon\n",
        "\n",
        "\n",
        "  evolution\t  hp\tname\t      pokedex\t  type\n",
        "0\tIvysaur\t    45\tBulbasaur\t  yes\t      grass\n",
        "1\tCharmeleon\t39\tCharmander\tno\t      fire\n",
        "2\tWartortle\t  44\tSquirtle\t  yes\t      water\n",
        "3\tMetapod\t    45\tCaterpie\t  no\t      bug\n",
        "\n",
        "Step 4. Ops...it seems the DataFrame columns are in alphabetical order. Place the order of the columns as name, type, hp, evolution, pokedex\n",
        "\n",
        "Step 5. Add another column called place, and insert what you have in mind.\n",
        "\n",
        "Step 6. Present the type of each column\n",
        "\n",
        "BONUS: Create your own question and answer it.\n",
        "\n"
      ],
      "metadata": {
        "id": "IgQsSM0mBxtW"
      }
    }
  ]
}