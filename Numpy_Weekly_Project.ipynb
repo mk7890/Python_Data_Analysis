{
  "nbformat": 4,
  "nbformat_minor": 0,
  "metadata": {
    "colab": {
      "provenance": [],
      "authorship_tag": "ABX9TyMTztSk4lsxLZVbru9fYrBT",
      "include_colab_link": true
    },
    "kernelspec": {
      "name": "python3",
      "display_name": "Python 3"
    },
    "language_info": {
      "name": "python"
    }
  },
  "cells": [
    {
      "cell_type": "markdown",
      "metadata": {
        "id": "view-in-github",
        "colab_type": "text"
      },
      "source": [
        "<a href=\"https://colab.research.google.com/github/mk7890/Python_Data_Analysis/blob/main/Numpy_Weekly_Project.ipynb\" target=\"_parent\"><img src=\"https://colab.research.google.com/assets/colab-badge.svg\" alt=\"Open In Colab\"/></a>"
      ]
    },
    {
      "cell_type": "markdown",
      "source": [
        "61. Find the nearest value from a given value in an array"
      ],
      "metadata": {
        "id": "xUY0XAxfgz52"
      }
    },
    {
      "cell_type": "code",
      "execution_count": null,
      "metadata": {
        "colab": {
          "base_uri": "https://localhost:8080/"
        },
        "id": "HFcaUhC4gc6p",
        "outputId": "3e88a148-eef8-44a1-b32f-71f6a579e50d"
      },
      "outputs": [
        {
          "output_type": "stream",
          "name": "stdout",
          "text": [
            "The nearest value to 33 is 30\n"
          ]
        }
      ],
      "source": [
        "# 61. Find the nearest value from a given value in an array\n",
        "import numpy as np\n",
        "\n",
        "# Sample array\n",
        "arr = np.array([10, 20, 30, 40, 50])\n",
        "\n",
        "# Given value\n",
        "value = 33\n",
        "\n",
        "# Find the nearest value\n",
        "nearest_value = arr[np.abs(arr - value).argmin()]\n",
        "\n",
        "print(f\"The nearest value to {value} is {nearest_value}\")\n"
      ]
    },
    {
      "cell_type": "markdown",
      "source": [],
      "metadata": {
        "id": "vlZ61dsugyAb"
      }
    },
    {
      "cell_type": "markdown",
      "source": [
        "62. Considering two arrays with shape (1,3) and (3,1), how to compute their sum using an iterator?"
      ],
      "metadata": {
        "id": "Oe-0Wa5ulVeJ"
      }
    },
    {
      "cell_type": "code",
      "source": [
        "# 62. Considering two arrays with shape (1,3) and (3,1), how to compute their sum using an iterator?\n",
        "import numpy as np\n",
        "\n",
        "# Define two arrays\n",
        "a = np.array([[1, 2, 3]])   # Shape (1, 3)\n",
        "b = np.array([[4], [5], [6]])  # Shape (3, 1)\n",
        "\n",
        "# Create an iterator with broadcasting\n",
        "it = np.nditer([a, b, None])\n",
        "\n",
        "# Sum the arrays element-wise using the iterator\n",
        "for x, y, z in it:\n",
        "    z[...] = x + y\n",
        "\n",
        "# Get the result from the iterator\n",
        "result = it.operands[2]\n",
        "\n",
        "print(\"Array a:\\n\", a)\n",
        "print(\"Array b:\\n\", b)\n",
        "print(\"Result of a + b:\\n\", result)\n"
      ],
      "metadata": {
        "colab": {
          "base_uri": "https://localhost:8080/"
        },
        "id": "wGbBTGcQlW3P",
        "outputId": "b605162f-1358-4b81-b201-a90aa75377a5"
      },
      "execution_count": null,
      "outputs": [
        {
          "output_type": "stream",
          "name": "stdout",
          "text": [
            "Array a:\n",
            " [[1 2 3]]\n",
            "Array b:\n",
            " [[4]\n",
            " [5]\n",
            " [6]]\n",
            "Result of a + b:\n",
            " [[5 6 7]\n",
            " [6 7 8]\n",
            " [7 8 9]]\n"
          ]
        }
      ]
    },
    {
      "cell_type": "markdown",
      "source": [
        "63. Create an array class that has a name attribute"
      ],
      "metadata": {
        "id": "jtVvScx_l1A3"
      }
    },
    {
      "cell_type": "code",
      "source": [
        "# 63. Create an array class that has a name attribute\n",
        "import numpy as np\n",
        "\n",
        "class NamedArray(np.ndarray):\n",
        "    def __new__(cls, input_array, name=\"Unnamed\"):\n",
        "        # Create a new instance of the class, which is essentially an ndarray\n",
        "        obj = np.asarray(input_array).view(cls)\n",
        "        # Add the 'name' attribute to the array object\n",
        "        obj.name = name\n",
        "        return obj\n",
        "\n",
        "    def __str__(self):\n",
        "        # Custom string representation to include the name of the array\n",
        "        return f\"NamedArray(name={self.name}, data={super().__str__()})\"\n",
        "\n",
        "# Create a NamedArray instance\n",
        "arr = NamedArray([1, 2, 3, 4], name=\"MyArray\")\n",
        "\n",
        "# Access the name attribute\n",
        "print(f\"Array name: {arr.name}\")\n",
        "# Print the array using the custom string method\n",
        "print(arr)\n"
      ],
      "metadata": {
        "colab": {
          "base_uri": "https://localhost:8080/"
        },
        "id": "6k37weIel2DT",
        "outputId": "b18d745f-328d-4f09-d8f9-e8e501fa9c3e"
      },
      "execution_count": null,
      "outputs": [
        {
          "output_type": "stream",
          "name": "stdout",
          "text": [
            "Array name: MyArray\n",
            "NamedArray(name=MyArray, data=[1 2 3 4])\n"
          ]
        }
      ]
    },
    {
      "cell_type": "markdown",
      "source": [
        "64. Consider a given vector, how to add 1 to each element indexed by a second vector (be careful with repeated indices)"
      ],
      "metadata": {
        "id": "NWL3BknnmNxf"
      }
    },
    {
      "cell_type": "code",
      "source": [
        "# 64. Consider a given vector, how to add 1 to each element indexed by a second vector (be careful with repeated indices)\n",
        "import numpy as np\n",
        "\n",
        "# Given vectors\n",
        "vector = np.array([10, 20, 30, 40, 50])  # original vector\n",
        "indices = np.array([1, 3, 1, 2])         # indices where we want to add 1 (with repetition)\n",
        "\n",
        "# Add 1 to each element in 'vector' indexed by 'indices'\n",
        "np.add.at(vector, indices, 1)\n",
        "\n",
        "# Print the modified vector\n",
        "print(\"Modified vector:\", vector)\n"
      ],
      "metadata": {
        "colab": {
          "base_uri": "https://localhost:8080/"
        },
        "id": "glZCpM7cmPA9",
        "outputId": "4d9169f7-3ecc-4c8f-dedd-f2ef814d90ff"
      },
      "execution_count": null,
      "outputs": [
        {
          "output_type": "stream",
          "name": "stdout",
          "text": [
            "Modified vector: [10 22 31 41 50]\n"
          ]
        }
      ]
    },
    {
      "cell_type": "markdown",
      "source": [
        "65. How to accumulate elements of a vector (X) to an array (F) based on an index list (I)?"
      ],
      "metadata": {
        "id": "LuQq-JWYmgG7"
      }
    },
    {
      "cell_type": "code",
      "source": [
        "# 65. How to accumulate elements of a vector (X) to an array (F) based on an index list (I)?\n",
        "import numpy as np\n",
        "\n",
        "# Given vector X and index list I\n",
        "X = np.array([10, 20, 30, 40])  # Values to accumulate\n",
        "I = np.array([0, 2, 2, 1])      # Indices in F where X elements should be added\n",
        "\n",
        "# Initialize the target array F with zeros (or any other initial value)\n",
        "F = np.zeros(3)  # F will have 3 elements based on the indices in I\n",
        "\n",
        "# Accumulate elements of X to F based on indices in I\n",
        "np.add.at(F, I, X)\n",
        "\n",
        "# Print the accumulated array F\n",
        "print(\"Accumulated array F:\", F)\n"
      ],
      "metadata": {
        "colab": {
          "base_uri": "https://localhost:8080/"
        },
        "id": "YyAoas3dmg4e",
        "outputId": "12e000d2-2606-4efd-e5e9-f77e7c8f0f36"
      },
      "execution_count": null,
      "outputs": [
        {
          "output_type": "stream",
          "name": "stdout",
          "text": [
            "Accumulated array F: [10. 40. 50.]\n"
          ]
        }
      ]
    },
    {
      "cell_type": "markdown",
      "source": [
        "66. Considering a (w,h,3) image of (dtype=ubyte), compute the number of unique colors"
      ],
      "metadata": {
        "id": "e0tVOEqUnXwS"
      }
    },
    {
      "cell_type": "code",
      "source": [
        "# 66. Considering a (w,h,3) image of (dtype=ubyte), compute the number of unique colors\n",
        "import numpy as np\n",
        "\n",
        "# Example image (w, h, 3) with dtype=ubyte\n",
        "image = np.random.randint(0, 256, size=(4, 4, 3), dtype=np.uint8)  # Example image\n",
        "\n",
        "# Reshape the image to (w*h, 3) to consider each pixel as a row of RGB values\n",
        "pixels = image.reshape(-1, 3)\n",
        "\n",
        "# Find unique rows (RGB combinations)\n",
        "unique_colors = np.unique(pixels, axis=0)\n",
        "\n",
        "# Print the number of unique colors\n",
        "print(\"Number of unique colors:\", unique_colors.shape[0])\n"
      ],
      "metadata": {
        "colab": {
          "base_uri": "https://localhost:8080/"
        },
        "id": "0Hfk0w_ynYoj",
        "outputId": "3a12b767-17ac-44de-9211-a363f96a73c4"
      },
      "execution_count": null,
      "outputs": [
        {
          "output_type": "stream",
          "name": "stdout",
          "text": [
            "Number of unique colors: 16\n"
          ]
        }
      ]
    },
    {
      "cell_type": "markdown",
      "source": [
        "67. Considering a four dimensions array, how to get sum over the last two axis at once?"
      ],
      "metadata": {
        "id": "dEBu0wWspkgO"
      }
    },
    {
      "cell_type": "code",
      "source": [
        "# 67. Considering a four dimensions array, how to get sum over the last two axis at once?\n",
        "import numpy as np\n",
        "\n",
        "# Example 4D array (shape: (w, h, d, e))\n",
        "arr = np.random.randint(0, 10, size=(2, 3, 4, 5))\n",
        "\n",
        "# Sum over the last two axes (axis -2 and -1)\n",
        "result = np.sum(arr, axis=(-2, -1))\n",
        "\n",
        "# Print the result\n",
        "print(\"Shape of the original array:\", arr.shape)\n",
        "print(\"Shape of the result:\", result.shape)\n",
        "print(\"Result:\\n\", result)\n"
      ],
      "metadata": {
        "colab": {
          "base_uri": "https://localhost:8080/"
        },
        "id": "xeI_B_f_ploE",
        "outputId": "1cb191e9-3a7d-459e-9ee1-cfb242d3ce8e"
      },
      "execution_count": null,
      "outputs": [
        {
          "output_type": "stream",
          "name": "stdout",
          "text": [
            "Shape of the original array: (2, 3, 4, 5)\n",
            "Shape of the result: (2, 3)\n",
            "Result:\n",
            " [[ 75 112  94]\n",
            " [ 76  91  86]]\n"
          ]
        }
      ]
    },
    {
      "cell_type": "markdown",
      "source": [
        "68. Considering a one-dimensional vector D, how to compute means of subsets of D using a vector S of same size describing subset indices?"
      ],
      "metadata": {
        "id": "fQaH7dycp5HX"
      }
    },
    {
      "cell_type": "code",
      "source": [
        "# 68. Considering a one-dimensional vector D, how to compute means of subsets of D using a vector S of same size describing subset indices?\n",
        "import numpy as np\n",
        "\n",
        "# Example vector D (data) and S (subset indices)\n",
        "D = np.array([10, 20, 30, 40, 50])  # Data vector\n",
        "S = np.array([0, 1, 0, 1, 0])       # Subset indices\n",
        "\n",
        "# Compute the sum of elements in each subset (grouped by S)\n",
        "subset_sums = np.bincount(S, weights=D)\n",
        "\n",
        "# Compute the count of elements in each subset (grouped by S)\n",
        "subset_counts = np.bincount(S)\n",
        "\n",
        "# Compute the mean for each subset (avoid division by zero by ensuring subset_counts > 0)\n",
        "subset_means = subset_sums / subset_counts\n",
        "\n",
        "# Print the results\n",
        "print(\"Subset means:\", subset_means)\n"
      ],
      "metadata": {
        "colab": {
          "base_uri": "https://localhost:8080/"
        },
        "id": "_5mkwptBp50A",
        "outputId": "77018109-f3bf-4984-a374-91b4876f3854"
      },
      "execution_count": null,
      "outputs": [
        {
          "output_type": "stream",
          "name": "stdout",
          "text": [
            "Subset means: [30. 30.]\n"
          ]
        }
      ]
    },
    {
      "cell_type": "markdown",
      "source": [
        "69. How to get the diagonal of a dot product?"
      ],
      "metadata": {
        "id": "s7oOATOVz71_"
      }
    },
    {
      "cell_type": "code",
      "source": [
        "# 69. How to get the diagonal of a dot product?\n",
        "import numpy as np\n",
        "\n",
        "# Example arrays A and B\n",
        "A = np.array([[1, 2], [3, 4]])\n",
        "B = np.array([[5, 6], [7, 8]])\n",
        "\n",
        "# Compute the dot product of A and B\n",
        "dot_product = np.dot(A, B)\n",
        "\n",
        "# Extract the diagonal of the dot product\n",
        "diagonal = np.diagonal(dot_product)\n",
        "\n",
        "# Print the results\n",
        "print(\"Dot product:\\n\", dot_product)\n",
        "print(\"Diagonal of the dot product:\", diagonal)\n"
      ],
      "metadata": {
        "colab": {
          "base_uri": "https://localhost:8080/"
        },
        "id": "UO5RjTpDz81x",
        "outputId": "a05a60e0-e3da-4eff-f38c-f06c9662da73"
      },
      "execution_count": null,
      "outputs": [
        {
          "output_type": "stream",
          "name": "stdout",
          "text": [
            "Dot product:\n",
            " [[19 22]\n",
            " [43 50]]\n",
            "Diagonal of the dot product: [19 50]\n"
          ]
        }
      ]
    },
    {
      "cell_type": "markdown",
      "source": [
        "70. Consider the vector [1, 2, 3, 4, 5], how to build a new vector with 3 consecutive zeros interleaved between each value?"
      ],
      "metadata": {
        "id": "mf7NAH7G0IoN"
      }
    },
    {
      "cell_type": "code",
      "source": [
        "#70. Consider the vector [1, 2, 3, 4, 5], how to build a new vector with 3 consecutive zeros interleaved between each value?\n",
        "import numpy as np\n",
        "\n",
        "# Original vector\n",
        "original_vector = np.array([1, 2, 3, 4, 5])\n",
        "\n",
        "# Calculate the size of the new array\n",
        "new_size = len(original_vector) + (len(original_vector) - 1) * 3\n",
        "\n",
        "# Create a new array with zeros\n",
        "new_vector = np.zeros(new_size, dtype=int)\n",
        "\n",
        "# Fill the new array with values from the original vector\n",
        "new_vector[::4] = original_vector\n",
        "\n",
        "# Print the result\n",
        "print(\"New vector:\", new_vector)\n"
      ],
      "metadata": {
        "colab": {
          "base_uri": "https://localhost:8080/"
        },
        "id": "KFJ8OTzL0JYw",
        "outputId": "4906e523-ee51-461e-eeea-e4dbebf64d9d"
      },
      "execution_count": null,
      "outputs": [
        {
          "output_type": "stream",
          "name": "stdout",
          "text": [
            "New vector: [1 0 0 0 2 0 0 0 3 0 0 0 4 0 0 0 5]\n"
          ]
        }
      ]
    },
    {
      "cell_type": "markdown",
      "source": [
        "71. Consider an array of dimension (5,5,3), how to mulitply it by an array with dimensions (5,5)?"
      ],
      "metadata": {
        "id": "52P29Pps1vEn"
      }
    },
    {
      "cell_type": "code",
      "source": [
        "# 71. Consider an array of dimension (5,5,3), how to mulitply it by an array with dimensions (5,5)?\n",
        "import numpy as np\n",
        "\n",
        "# Example arrays\n",
        "arr_3d = np.random.rand(5, 5, 3)  # Shape (5, 5, 3)\n",
        "arr_2d = np.random.rand(5, 5)     # Shape (5, 5)\n",
        "\n",
        "# Multiply the 3D array by the 2D array\n",
        "result = arr_3d * arr_2d[:, :, np.newaxis]\n",
        "\n",
        "# Output the shape of the result\n",
        "print(result)\n",
        "print(result.shape)\n"
      ],
      "metadata": {
        "id": "V8upCt_R1vvW",
        "colab": {
          "base_uri": "https://localhost:8080/"
        },
        "outputId": "a12d2427-36ac-47a2-cc85-5f3bf4cdb68b"
      },
      "execution_count": 3,
      "outputs": [
        {
          "output_type": "stream",
          "name": "stdout",
          "text": [
            "[[[0.04543147 0.62203895 0.30903769]\n",
            "  [0.16332071 0.03387548 0.24186039]\n",
            "  [0.02964934 0.00236277 0.80477274]\n",
            "  [0.8492337  0.24127855 0.86246263]\n",
            "  [0.19734141 0.27724514 0.43197441]]\n",
            "\n",
            " [[0.47637387 0.09245407 0.72382926]\n",
            "  [0.13232914 0.094808   0.09644589]\n",
            "  [0.62008212 0.21914022 0.52464807]\n",
            "  [0.20527862 0.09664068 0.06649567]\n",
            "  [0.26863753 0.28399457 0.55784755]]\n",
            "\n",
            " [[0.19544069 0.07734716 0.44388404]\n",
            "  [0.19806887 0.58872806 0.40497536]\n",
            "  [0.18061144 0.00917795 0.30436291]\n",
            "  [0.1050213  0.87426066 0.81042705]\n",
            "  [0.18756905 0.31728098 0.22770124]]\n",
            "\n",
            " [[0.16832053 0.18213191 0.3535218 ]\n",
            "  [0.20878188 0.10143248 0.0010979 ]\n",
            "  [0.02080426 0.11064052 0.11678503]\n",
            "  [0.14432985 0.09218121 0.02220318]\n",
            "  [0.01070187 0.01650478 0.00226868]]\n",
            "\n",
            " [[0.16840843 0.18163252 0.04262393]\n",
            "  [0.02857288 0.01416858 0.02888738]\n",
            "  [0.45217789 0.31610341 0.11491436]\n",
            "  [0.69667778 0.2763705  0.38963083]\n",
            "  [0.4081056  0.38614297 0.34369436]]]\n",
            "(5, 5, 3)\n"
          ]
        }
      ]
    },
    {
      "cell_type": "markdown",
      "source": [
        "72. How to swap two rows of an array?"
      ],
      "metadata": {
        "id": "rKgi__O0q8jC"
      }
    },
    {
      "cell_type": "code",
      "source": [
        "#72. How to swap two rows of an array?\n",
        "import numpy as np\n",
        "\n",
        "#sample array\n",
        "arr = np.array([[1, 2, 3],\n",
        "                [4, 5, 6],\n",
        "                [7, 8, 9]])\n",
        "\n",
        "print(\"Original array:\")\n",
        "print(arr)\n",
        "\n",
        "# Indices of rows to swap\n",
        "i, j = 0, 2\n",
        "\n",
        "# Swapping rows i and j\n",
        "arr[[i, j]] = arr[[j, i]]\n",
        "\n",
        "print(\"\\nArray after swapping rows:\")\n",
        "print(arr)\n"
      ],
      "metadata": {
        "colab": {
          "base_uri": "https://localhost:8080/"
        },
        "id": "Owk2R-Slq9Yw",
        "outputId": "f5d828d6-45a7-4700-ed1c-a71aaab6bc90"
      },
      "execution_count": 4,
      "outputs": [
        {
          "output_type": "stream",
          "name": "stdout",
          "text": [
            "Original array:\n",
            "[[1 2 3]\n",
            " [4 5 6]\n",
            " [7 8 9]]\n",
            "\n",
            "Array after swapping rows:\n",
            "[[7 8 9]\n",
            " [4 5 6]\n",
            " [1 2 3]]\n"
          ]
        }
      ]
    },
    {
      "cell_type": "markdown",
      "source": [
        "73. Consider a set of 10 triplets describing 10 triangles (with shared vertices), find the set of unique line segments composing all the triangles"
      ],
      "metadata": {
        "id": "XE2bTGR1rUPT"
      }
    },
    {
      "cell_type": "code",
      "source": [
        "# 73. Consider a set of 10 triplets describing 10 triangles (with shared vertices),\n",
        "# find the set of unique line segments composing all the triangles\n",
        "\n",
        "# Sample input: A list of 10 triangles represented by triplets of vertices\n",
        "triangles = [\n",
        "    (1, 2, 3),\n",
        "    (2, 3, 4),\n",
        "    (3, 4, 5),\n",
        "    (4, 5, 6),\n",
        "    (5, 6, 7),\n",
        "    (6, 7, 8),\n",
        "    (7, 8, 9),\n",
        "    (8, 9, 10),\n",
        "    (9, 10, 1),\n",
        "    (10, 1, 2)\n",
        "]\n",
        "\n",
        "# Step 1: Extract all line segments and store them in a set\n",
        "segments = set()\n",
        "\n",
        "for triangle in triangles:\n",
        "    # Extract vertices\n",
        "    A, B, C = triangle\n",
        "\n",
        "    # Step 2: Add each edge (sorted) to the set\n",
        "    segments.add(tuple(sorted((A, B))))\n",
        "    segments.add(tuple(sorted((B, C))))\n",
        "    segments.add(tuple(sorted((C, A))))\n",
        "\n",
        "# Step 3: Convert set to a list and print the unique segments\n",
        "unique_segments = list(segments)\n",
        "print(\"Unique line segments:\")\n",
        "for segment in unique_segments:\n",
        "    print(segment)\n"
      ],
      "metadata": {
        "colab": {
          "base_uri": "https://localhost:8080/"
        },
        "id": "8bHOkAUkrU5s",
        "outputId": "7a6afff1-ef0b-469b-ac9d-4db56fb7b6b0"
      },
      "execution_count": 5,
      "outputs": [
        {
          "output_type": "stream",
          "name": "stdout",
          "text": [
            "Unique line segments:\n",
            "(3, 4)\n",
            "(4, 6)\n",
            "(5, 7)\n",
            "(8, 9)\n",
            "(1, 3)\n",
            "(1, 9)\n",
            "(6, 8)\n",
            "(4, 5)\n",
            "(5, 6)\n",
            "(9, 10)\n",
            "(2, 4)\n",
            "(1, 2)\n",
            "(2, 10)\n",
            "(7, 9)\n",
            "(6, 7)\n",
            "(3, 5)\n",
            "(8, 10)\n",
            "(2, 3)\n",
            "(1, 10)\n",
            "(7, 8)\n"
          ]
        }
      ]
    },
    {
      "cell_type": "markdown",
      "source": [
        "74. Given a sorted array C that corresponds to a bincount, how to produce an array A such that np.bincount(A) == C?"
      ],
      "metadata": {
        "id": "HvgzfUzusSmp"
      }
    },
    {
      "cell_type": "code",
      "source": [
        "# 74. Given a sorted array C that corresponds to a bincount, how to produce an array A such that np.bincount(A) == C?\n",
        "import numpy as np\n",
        "\n",
        "def generate_array_from_bincount(C):\n",
        "    # Generate the array A using np.repeat\n",
        "    A = np.repeat(np.arange(len(C)), C)\n",
        "    return A\n",
        "\n",
        "# Example usage\n",
        "C = [1, 2, 3]\n",
        "A = generate_array_from_bincount(C)\n",
        "\n",
        "print(\"Generated array A:\", A)\n",
        "print(\"Bincount of A:\", np.bincount(A))\n"
      ],
      "metadata": {
        "colab": {
          "base_uri": "https://localhost:8080/"
        },
        "id": "w4Puyph1sTaM",
        "outputId": "793b39e7-dfe1-42c5-87db-8d31c96baf50"
      },
      "execution_count": 6,
      "outputs": [
        {
          "output_type": "stream",
          "name": "stdout",
          "text": [
            "Generated array A: [0 1 1 2 2 2]\n",
            "Bincount of A: [1 2 3]\n"
          ]
        }
      ]
    },
    {
      "cell_type": "markdown",
      "source": [
        "75. How to compute averages using a sliding window over an array?"
      ],
      "metadata": {
        "id": "E0N4rQgNsztM"
      }
    },
    {
      "cell_type": "code",
      "source": [
        "# 75. How to compute averages using a sliding window over an array?\n",
        "import numpy as np\n",
        "\n",
        "def sliding_window_average(arr, w):\n",
        "    # Create a window of size w with uniform weights\n",
        "    window = np.ones(w) / w\n",
        "    # Use valid mode to ensure the window fits within the array bounds\n",
        "    return np.convolve(arr, window, mode='valid')\n",
        "\n",
        "# Example usage\n",
        "arr = np.array([1, 2, 3, 4, 5, 6, 7, 8, 9])\n",
        "w = 3\n",
        "result = sliding_window_average(arr, w)\n",
        "print(\"Sliding window averages:\", result)\n"
      ],
      "metadata": {
        "colab": {
          "base_uri": "https://localhost:8080/"
        },
        "id": "l5FvxEUes0ls",
        "outputId": "6eac190e-7f50-4572-f89c-e3f71d6859ce"
      },
      "execution_count": 7,
      "outputs": [
        {
          "output_type": "stream",
          "name": "stdout",
          "text": [
            "Sliding window averages: [2. 3. 4. 5. 6. 7. 8.]\n"
          ]
        }
      ]
    },
    {
      "cell_type": "markdown",
      "source": [
        "76. Consider a one-dimensional array Z, build a two-dimensional array whose first row is (Z[0],Z[1],Z[2]) and each subsequent row is shifted by 1 (last row should be (Z[-3],Z[-2],Z[-1])"
      ],
      "metadata": {
        "id": "5cbZNc77tbXX"
      }
    },
    {
      "cell_type": "code",
      "source": [
        "# 76. Consider a one-dimensional array Z, build a two-dimensional array whose first row is (Z[0],Z[1],Z[2])\n",
        "# and each subsequent row is shifted by 1 (last row should be (Z[-3],Z[-2],Z[-1])\n",
        "import numpy as np\n",
        "\n",
        "def build_2d_array(Z, window_size=3):\n",
        "    # Get the number of rows for the output array\n",
        "    num_rows = len(Z) - window_size + 1\n",
        "    # Use a sliding window approach to create the 2D array\n",
        "    return np.array([Z[i:i + window_size] for i in range(num_rows)])\n",
        "\n",
        "# Example usage\n",
        "Z = np.array([0, 1, 2, 3, 4, 5, 6, 7, 8, 9])\n",
        "result = build_2d_array(Z, window_size=3)\n",
        "print(\"Resulting 2D array:\")\n",
        "print(result)\n"
      ],
      "metadata": {
        "colab": {
          "base_uri": "https://localhost:8080/"
        },
        "id": "QlMqdSmvtcdj",
        "outputId": "8d61e53e-ffa3-45b8-9dda-23366b40fc18"
      },
      "execution_count": 8,
      "outputs": [
        {
          "output_type": "stream",
          "name": "stdout",
          "text": [
            "Resulting 2D array:\n",
            "[[0 1 2]\n",
            " [1 2 3]\n",
            " [2 3 4]\n",
            " [3 4 5]\n",
            " [4 5 6]\n",
            " [5 6 7]\n",
            " [6 7 8]\n",
            " [7 8 9]]\n"
          ]
        }
      ]
    },
    {
      "cell_type": "markdown",
      "source": [
        "77. How to negate a boolean, or to change the sign of a float inplace?"
      ],
      "metadata": {
        "id": "HdFbiXDBuHTc"
      }
    },
    {
      "cell_type": "code",
      "source": [
        "# 77. How to negate a boolean, or to change the sign of a float inplace?\n",
        "import numpy as np\n",
        "\n",
        "# Example boolean array\n",
        "bool_arr = np.array([True, False, True, False, True])\n",
        "\n",
        "# Negate the array in-place\n",
        "bool_arr[:] = ~bool_arr\n",
        "\n",
        "print(\"Negated boolean array:\", bool_arr)\n",
        "\n",
        "# Example float array\n",
        "float_arr = np.array([1.0, -2.0, 3.5, -4.2, 5.0])\n",
        "\n",
        "# Change the sign in-place\n",
        "float_arr *= -1\n",
        "\n",
        "print(\"Array with negated sign:\", float_arr)"
      ],
      "metadata": {
        "colab": {
          "base_uri": "https://localhost:8080/"
        },
        "id": "3F-Hn6vNuH-O",
        "outputId": "15616db6-60c7-41a5-e0f6-623f65d96d05"
      },
      "execution_count": 9,
      "outputs": [
        {
          "output_type": "stream",
          "name": "stdout",
          "text": [
            "Negated boolean array: [False  True False  True False]\n",
            "Array with negated sign: [-1.   2.  -3.5  4.2 -5. ]\n"
          ]
        }
      ]
    },
    {
      "cell_type": "markdown",
      "source": [
        "78. Consider 2 sets of points P0,P1 describing lines (2d) and a point p, how to compute distance from p to each line i (P0[i],P1[i])?"
      ],
      "metadata": {
        "id": "jYUi8K97uevV"
      }
    },
    {
      "cell_type": "code",
      "source": [
        "# 78. Consider 2 sets of points P0,P1 describing lines (2d) and a point p, how to compute distance\n",
        "# from p to each line i (P0[i],P1[i])?\n",
        "import numpy as np\n",
        "\n",
        "def distance_point_to_lines(P0, P1, p):\n",
        "    \"\"\"\n",
        "    Compute the distance from point `p` to each line defined by pairs (P0[i], P1[i]).\n",
        "\n",
        "    Parameters:\n",
        "    P0 (ndarray): Array of shape (n, 2) representing the starting points of the lines.\n",
        "    P1 (ndarray): Array of shape (n, 2) representing the ending points of the lines.\n",
        "    p (ndarray): Array of shape (2,) representing the point.\n",
        "\n",
        "    Returns:\n",
        "    distances (ndarray): Array of shape (n,) with the distances from `p` to each line.\n",
        "    \"\"\"\n",
        "    # Convert `p` to an array if it's not already\n",
        "    p = np.asarray(p)\n",
        "\n",
        "    # Compute vectors\n",
        "    line_vec = P1 - P0       # Vector from P0 to P1\n",
        "    point_vec = P0 - p       # Vector from p to P0\n",
        "\n",
        "    # Cross product in 2D: (x1, y1) x (x2, y2) = x1 * y2 - y1 * x2\n",
        "    cross_product = line_vec[:, 0] * point_vec[:, 1] - line_vec[:, 1] * point_vec[:, 0]\n",
        "\n",
        "    # Compute the norm of the line vectors\n",
        "    line_length = np.linalg.norm(line_vec, axis=1)\n",
        "\n",
        "    # Calculate the distances using the formula\n",
        "    distances = np.abs(cross_product) / line_length\n",
        "    return distances\n",
        "\n",
        "# Example usage\n",
        "P0 = np.array([[0, 0], [1, 1], [2, 2]])\n",
        "P1 = np.array([[1, 0], [2, 2], [3, 3]])\n",
        "p = np.array([1, 0.5])\n",
        "\n",
        "distances = distance_point_to_lines(P0, P1, p)\n",
        "print(\"Distances from point to lines:\", distances)\n"
      ],
      "metadata": {
        "colab": {
          "base_uri": "https://localhost:8080/"
        },
        "id": "rInUNCYwufkH",
        "outputId": "9ee140a6-a346-4db0-9cd7-7cce976d53b8"
      },
      "execution_count": 10,
      "outputs": [
        {
          "output_type": "stream",
          "name": "stdout",
          "text": [
            "Distances from point to lines: [0.5        0.35355339 0.35355339]\n"
          ]
        }
      ]
    },
    {
      "cell_type": "markdown",
      "source": [
        "79. Consider 2 sets of points P0,P1 describing lines (2d) and a set of points P, how to compute distance from each point j (P[j]) to each line i (P0[i],P1[i])?"
      ],
      "metadata": {
        "id": "gVC9HKSDuzsv"
      }
    },
    {
      "cell_type": "code",
      "source": [
        "# 79. Consider 2 sets of points P0,P1 describing lines (2d) and a set of points P, how to compute distance from each\n",
        "# point j (P[j]) to each line i (P0[i],P1[i])?\n",
        "\n",
        "import numpy as np\n",
        "\n",
        "def distance_points_to_lines(P0, P1, P):\n",
        "    \"\"\"\n",
        "    Compute the distance from each point in `P` to each line defined by pairs (P0[i], P1[i]).\n",
        "\n",
        "    Parameters:\n",
        "    P0 (ndarray): Array of shape (n, 2) representing the starting points of the lines.\n",
        "    P1 (ndarray): Array of shape (n, 2) representing the ending points of the lines.\n",
        "    P (ndarray): Array of shape (m, 2) representing the set of points.\n",
        "\n",
        "    Returns:\n",
        "    distances (ndarray): Array of shape (m, n) with the distances from each point in `P` to each line.\n",
        "    \"\"\"\n",
        "    # Convert inputs to NumPy arrays\n",
        "    P0 = np.asarray(P0)\n",
        "    P1 = np.asarray(P1)\n",
        "    P = np.asarray(P)\n",
        "\n",
        "    # Calculate the direction vectors for each line: (n, 2)\n",
        "    line_vec = P1 - P0\n",
        "    line_length = np.linalg.norm(line_vec, axis=1)  # (n,)\n",
        "\n",
        "    # Broadcast `P` and `P0` to compute vectors from each point to each line start point\n",
        "    P_expanded = P[:, np.newaxis, :]  # Shape (m, 1, 2)\n",
        "    P0_expanded = P0[np.newaxis, :, :]  # Shape (1, n, 2)\n",
        "    point_vec = P0_expanded - P_expanded  # Shape (m, n, 2)\n",
        "\n",
        "    # Compute the 2D cross product for each combination of point and line\n",
        "    cross_product = line_vec[np.newaxis, :, 0] * point_vec[:, :, 1] - line_vec[np.newaxis, :, 1] * point_vec[:, :, 0]\n",
        "\n",
        "    # Calculate the distances\n",
        "    distances = np.abs(cross_product) / line_length  # Shape (m, n)\n",
        "    return distances\n",
        "\n",
        "# Example usage\n",
        "P0 = np.array([[0, 0], [1, 1], [2, 2]])\n",
        "P1 = np.array([[1, 0], [2, 2], [3, 3]])\n",
        "P = np.array([[1, 0.5], [0, 0], [3, 3]])\n",
        "\n",
        "distances = distance_points_to_lines(P0, P1, P)\n",
        "print(\"Distances from each point to each line:\\n\", distances)\n"
      ],
      "metadata": {
        "colab": {
          "base_uri": "https://localhost:8080/"
        },
        "id": "LZBxUt4Hu2iv",
        "outputId": "474f31a9-2886-4bf7-f0b8-7d074990b066"
      },
      "execution_count": 11,
      "outputs": [
        {
          "output_type": "stream",
          "name": "stdout",
          "text": [
            "Distances from each point to each line:\n",
            " [[0.5        0.35355339 0.35355339]\n",
            " [0.         0.         0.        ]\n",
            " [3.         0.         0.        ]]\n"
          ]
        }
      ]
    },
    {
      "cell_type": "markdown",
      "source": [
        "80. Consider an arbitrary array, write a function that extract a subpart with a fixed shape and centered on a given element (pad with a fill value when necessary)"
      ],
      "metadata": {
        "id": "-dZMN1UjvNBi"
      }
    },
    {
      "cell_type": "code",
      "source": [
        "# 80. Consider an arbitrary array, write a function that extract a subpart with a fixed shape and centered on a\n",
        "# given element (pad with a fill value when necessary)\n",
        "\n",
        "import numpy as np\n",
        "\n",
        "def extract_subarray(arr, center, shape, fill_value=0):\n",
        "    \"\"\"\n",
        "    Extract a sub-array of a fixed shape centered on a given element,\n",
        "    with padding if necessary.\n",
        "\n",
        "    Parameters:\n",
        "    arr (ndarray): Input 2D array.\n",
        "    center (tuple): The (row, col) position to center the sub-array on.\n",
        "    shape (tuple): The desired shape (height, width) of the sub-array.\n",
        "    fill_value: The value to use for padding if the sub-array exceeds boundaries.\n",
        "\n",
        "    Returns:\n",
        "    ndarray: The extracted sub-array with padding where necessary.\n",
        "    \"\"\"\n",
        "    # Get the input array shape\n",
        "    rows, cols = arr.shape\n",
        "    h, w = shape\n",
        "    i, j = center\n",
        "\n",
        "    # Calculate the boundaries of the sub-array\n",
        "    row_start = i - h // 2\n",
        "    row_end = i + h // 2 + 1\n",
        "    col_start = j - w // 2\n",
        "    col_end = j + w // 2 + 1\n",
        "\n",
        "    # Initialize an array filled with the fill value\n",
        "    subarray = np.full(shape, fill_value, dtype=arr.dtype)\n",
        "\n",
        "    # Calculate the valid range within the original array\n",
        "    row_start_clip = max(row_start, 0)\n",
        "    row_end_clip = min(row_end, rows)\n",
        "    col_start_clip = max(col_start, 0)\n",
        "    col_end_clip = min(col_end, cols)\n",
        "\n",
        "    # Calculate the corresponding indices in the subarray\n",
        "    sub_row_start = row_start_clip - row_start\n",
        "    sub_row_end = sub_row_start + (row_end_clip - row_start_clip)\n",
        "    sub_col_start = col_start_clip - col_start\n",
        "    sub_col_end = sub_col_start + (col_end_clip - col_start_clip)\n",
        "\n",
        "    # Copy the relevant part from the input array to the subarray\n",
        "    subarray[sub_row_start:sub_row_end, sub_col_start:sub_col_end] = \\\n",
        "        arr[row_start_clip:row_end_clip, col_start_clip:col_end_clip]\n",
        "\n",
        "    return subarray\n",
        "\n",
        "# Example usage\n",
        "arr = np.array([\n",
        "    [0, 1, 2, 3, 4],\n",
        "    [5, 6, 7, 8, 9],\n",
        "    [10, 11, 12, 13, 14],\n",
        "    [15, 16, 17, 18, 19],\n",
        "    [20, 21, 22, 23, 24]\n",
        "])\n",
        "\n",
        "# Extract a 3x3 sub-array centered at position (1, 1) with fill value -1\n",
        "result = extract_subarray(arr, center=(1, 1), shape=(3, 3), fill_value=-1)\n",
        "print(\"Extracted sub-array:\\n\", result)\n"
      ],
      "metadata": {
        "colab": {
          "base_uri": "https://localhost:8080/"
        },
        "id": "jGOcwc0RvOyh",
        "outputId": "4d27ce7c-5de7-4689-8ebb-44c6e972aa06"
      },
      "execution_count": 12,
      "outputs": [
        {
          "output_type": "stream",
          "name": "stdout",
          "text": [
            "Extracted sub-array:\n",
            " [[ 0  1  2]\n",
            " [ 5  6  7]\n",
            " [10 11 12]]\n"
          ]
        }
      ]
    },
    {
      "cell_type": "markdown",
      "source": [
        "81. Consider an array Z = [1,2,3,4,5,6,7,8,9,10,11,12,13,14], how to generate an array R = [[1,2,3,4], [2,3,4,5], [3,4,5,6], ..., [11,12,13,14]]?"
      ],
      "metadata": {
        "id": "-tB_JOgEvOQ2"
      }
    },
    {
      "cell_type": "code",
      "source": [
        "# 81. Consider an array Z = [1,2,3,4,5,6,7,8,9,10,11,12,13,14], how to generate an array\n",
        "# R = [[1,2,3,4], [2,3,4,5], [3,4,5,6], ..., [11,12,13,14]]?\n",
        "\n",
        "import numpy as np\n",
        "\n",
        "# Input array Z\n",
        "Z = np.array([1, 2, 3, 4, 5, 6, 7, 8, 9, 10, 11, 12, 13, 14])\n",
        "\n",
        "# Generate the sliding windows of size 4\n",
        "R = np.lib.stride_tricks.sliding_window_view(Z, window_shape=4)\n",
        "\n",
        "print(\"Generated array R:\\n\", R)\n"
      ],
      "metadata": {
        "colab": {
          "base_uri": "https://localhost:8080/"
        },
        "id": "CyGM0J9-vik9",
        "outputId": "7878ba4b-4303-47e5-ac41-f34bf6ce9ac2"
      },
      "execution_count": 13,
      "outputs": [
        {
          "output_type": "stream",
          "name": "stdout",
          "text": [
            "Generated array R:\n",
            " [[ 1  2  3  4]\n",
            " [ 2  3  4  5]\n",
            " [ 3  4  5  6]\n",
            " [ 4  5  6  7]\n",
            " [ 5  6  7  8]\n",
            " [ 6  7  8  9]\n",
            " [ 7  8  9 10]\n",
            " [ 8  9 10 11]\n",
            " [ 9 10 11 12]\n",
            " [10 11 12 13]\n",
            " [11 12 13 14]]\n"
          ]
        }
      ]
    },
    {
      "cell_type": "markdown",
      "source": [
        "82. Compute a matrix rank"
      ],
      "metadata": {
        "id": "n-yU0Uk8v4at"
      }
    },
    {
      "cell_type": "code",
      "source": [
        "# 82. Compute a matrix rank\n",
        "\n",
        "import numpy as np\n",
        "\n",
        "# Example matrix\n",
        "A = np.array([\n",
        "    [1, 2, 3],\n",
        "    [4, 5, 6],\n",
        "    [7, 8, 9]\n",
        "])\n",
        "\n",
        "# Compute the rank of the matrix\n",
        "rank = np.linalg.matrix_rank(A)\n",
        "\n",
        "print(\"Rank of the matrix A:\", rank)\n"
      ],
      "metadata": {
        "colab": {
          "base_uri": "https://localhost:8080/"
        },
        "id": "o11Qme-Ev5Eg",
        "outputId": "a69e1397-0e77-421c-bdc0-81ae87755985"
      },
      "execution_count": 14,
      "outputs": [
        {
          "output_type": "stream",
          "name": "stdout",
          "text": [
            "Rank of the matrix A: 2\n"
          ]
        }
      ]
    },
    {
      "cell_type": "markdown",
      "source": [
        "83. How to find the most frequent value in an array?"
      ],
      "metadata": {
        "id": "hSFZlPsZwM8D"
      }
    },
    {
      "cell_type": "code",
      "source": [
        "# 83. How to find the most frequent value in an array?\n",
        "import numpy as np\n",
        "\n",
        "# Example array\n",
        "arr = np.array([1, 2, 2, 3, 3, 3, 4, 4, 4, 4, 5])\n",
        "\n",
        "# Count occurrences of each value\n",
        "counts = np.bincount(arr)\n",
        "\n",
        "# Find the most frequent value\n",
        "most_frequent_value = np.argmax(counts)\n",
        "\n",
        "print(\"Most frequent value:\", most_frequent_value)\n"
      ],
      "metadata": {
        "colab": {
          "base_uri": "https://localhost:8080/"
        },
        "id": "VxxpkNCawNu7",
        "outputId": "582d0753-a473-4b92-e4ba-24f2493d66d5"
      },
      "execution_count": 15,
      "outputs": [
        {
          "output_type": "stream",
          "name": "stdout",
          "text": [
            "Most frequent value: 4\n"
          ]
        }
      ]
    },
    {
      "cell_type": "markdown",
      "source": [
        "84. Extract all the contiguous 3x3 blocks from a random 10x10 matrix"
      ],
      "metadata": {
        "id": "VJ64KB6kwgGd"
      }
    },
    {
      "cell_type": "code",
      "source": [
        "# 84. Extract all the contiguous 3x3 blocks from a random 10x10 matrix\n",
        "import numpy as np\n",
        "\n",
        "# Create a random 10x10 matrix\n",
        "arr = np.random.randint(1, 100, size=(10, 10))\n",
        "\n",
        "# Print the original matrix\n",
        "print(\"Original 10x10 Matrix:\\n\", arr)\n",
        "\n",
        "# List to store the 3x3 blocks\n",
        "blocks = []\n",
        "\n",
        "# Loop through all possible top-left corners of 3x3 blocks\n",
        "for i in range(arr.shape[0] - 2):  # The row index range for 3x3 blocks\n",
        "    for j in range(arr.shape[1] - 2):  # The column index range for 3x3 blocks\n",
        "        block = arr[i:i+3, j:j+3]  # Extract the 3x3 block\n",
        "        blocks.append(block)\n",
        "\n",
        "# Print the extracted 3x3 blocks\n",
        "print(\"\\nExtracted 3x3 Blocks:\")\n",
        "for block in blocks:\n",
        "    print(block)\n",
        "    print()  # Print an empty line between blocks for clarity\n"
      ],
      "metadata": {
        "colab": {
          "base_uri": "https://localhost:8080/"
        },
        "id": "yMDHgtQLwg3x",
        "outputId": "b2037e8f-509f-4019-c421-e4ba4c9a70a3"
      },
      "execution_count": 16,
      "outputs": [
        {
          "output_type": "stream",
          "name": "stdout",
          "text": [
            "Original 10x10 Matrix:\n",
            " [[41 47 92 87  7 97  3 90 55 11]\n",
            " [17  2 47 47 29 79 20 24 13 94]\n",
            " [66  3 54 13 84 66 80 30 83 63]\n",
            " [38 79 76 44 23 31 20 71 23 24]\n",
            " [68 36 82 46 80 71 40 12 93 95]\n",
            " [20 43 99 13  3 48  9 48 50 22]\n",
            " [60 10  9 24 59 59 44 18 43 87]\n",
            " [54 79 66 14  7 55 56 70 52 96]\n",
            " [ 6 87 12  9 15 57 93 75 36 73]\n",
            " [52 12 61 81 20 90 47 73 92 25]]\n",
            "\n",
            "Extracted 3x3 Blocks:\n",
            "[[41 47 92]\n",
            " [17  2 47]\n",
            " [66  3 54]]\n",
            "\n",
            "[[47 92 87]\n",
            " [ 2 47 47]\n",
            " [ 3 54 13]]\n",
            "\n",
            "[[92 87  7]\n",
            " [47 47 29]\n",
            " [54 13 84]]\n",
            "\n",
            "[[87  7 97]\n",
            " [47 29 79]\n",
            " [13 84 66]]\n",
            "\n",
            "[[ 7 97  3]\n",
            " [29 79 20]\n",
            " [84 66 80]]\n",
            "\n",
            "[[97  3 90]\n",
            " [79 20 24]\n",
            " [66 80 30]]\n",
            "\n",
            "[[ 3 90 55]\n",
            " [20 24 13]\n",
            " [80 30 83]]\n",
            "\n",
            "[[90 55 11]\n",
            " [24 13 94]\n",
            " [30 83 63]]\n",
            "\n",
            "[[17  2 47]\n",
            " [66  3 54]\n",
            " [38 79 76]]\n",
            "\n",
            "[[ 2 47 47]\n",
            " [ 3 54 13]\n",
            " [79 76 44]]\n",
            "\n",
            "[[47 47 29]\n",
            " [54 13 84]\n",
            " [76 44 23]]\n",
            "\n",
            "[[47 29 79]\n",
            " [13 84 66]\n",
            " [44 23 31]]\n",
            "\n",
            "[[29 79 20]\n",
            " [84 66 80]\n",
            " [23 31 20]]\n",
            "\n",
            "[[79 20 24]\n",
            " [66 80 30]\n",
            " [31 20 71]]\n",
            "\n",
            "[[20 24 13]\n",
            " [80 30 83]\n",
            " [20 71 23]]\n",
            "\n",
            "[[24 13 94]\n",
            " [30 83 63]\n",
            " [71 23 24]]\n",
            "\n",
            "[[66  3 54]\n",
            " [38 79 76]\n",
            " [68 36 82]]\n",
            "\n",
            "[[ 3 54 13]\n",
            " [79 76 44]\n",
            " [36 82 46]]\n",
            "\n",
            "[[54 13 84]\n",
            " [76 44 23]\n",
            " [82 46 80]]\n",
            "\n",
            "[[13 84 66]\n",
            " [44 23 31]\n",
            " [46 80 71]]\n",
            "\n",
            "[[84 66 80]\n",
            " [23 31 20]\n",
            " [80 71 40]]\n",
            "\n",
            "[[66 80 30]\n",
            " [31 20 71]\n",
            " [71 40 12]]\n",
            "\n",
            "[[80 30 83]\n",
            " [20 71 23]\n",
            " [40 12 93]]\n",
            "\n",
            "[[30 83 63]\n",
            " [71 23 24]\n",
            " [12 93 95]]\n",
            "\n",
            "[[38 79 76]\n",
            " [68 36 82]\n",
            " [20 43 99]]\n",
            "\n",
            "[[79 76 44]\n",
            " [36 82 46]\n",
            " [43 99 13]]\n",
            "\n",
            "[[76 44 23]\n",
            " [82 46 80]\n",
            " [99 13  3]]\n",
            "\n",
            "[[44 23 31]\n",
            " [46 80 71]\n",
            " [13  3 48]]\n",
            "\n",
            "[[23 31 20]\n",
            " [80 71 40]\n",
            " [ 3 48  9]]\n",
            "\n",
            "[[31 20 71]\n",
            " [71 40 12]\n",
            " [48  9 48]]\n",
            "\n",
            "[[20 71 23]\n",
            " [40 12 93]\n",
            " [ 9 48 50]]\n",
            "\n",
            "[[71 23 24]\n",
            " [12 93 95]\n",
            " [48 50 22]]\n",
            "\n",
            "[[68 36 82]\n",
            " [20 43 99]\n",
            " [60 10  9]]\n",
            "\n",
            "[[36 82 46]\n",
            " [43 99 13]\n",
            " [10  9 24]]\n",
            "\n",
            "[[82 46 80]\n",
            " [99 13  3]\n",
            " [ 9 24 59]]\n",
            "\n",
            "[[46 80 71]\n",
            " [13  3 48]\n",
            " [24 59 59]]\n",
            "\n",
            "[[80 71 40]\n",
            " [ 3 48  9]\n",
            " [59 59 44]]\n",
            "\n",
            "[[71 40 12]\n",
            " [48  9 48]\n",
            " [59 44 18]]\n",
            "\n",
            "[[40 12 93]\n",
            " [ 9 48 50]\n",
            " [44 18 43]]\n",
            "\n",
            "[[12 93 95]\n",
            " [48 50 22]\n",
            " [18 43 87]]\n",
            "\n",
            "[[20 43 99]\n",
            " [60 10  9]\n",
            " [54 79 66]]\n",
            "\n",
            "[[43 99 13]\n",
            " [10  9 24]\n",
            " [79 66 14]]\n",
            "\n",
            "[[99 13  3]\n",
            " [ 9 24 59]\n",
            " [66 14  7]]\n",
            "\n",
            "[[13  3 48]\n",
            " [24 59 59]\n",
            " [14  7 55]]\n",
            "\n",
            "[[ 3 48  9]\n",
            " [59 59 44]\n",
            " [ 7 55 56]]\n",
            "\n",
            "[[48  9 48]\n",
            " [59 44 18]\n",
            " [55 56 70]]\n",
            "\n",
            "[[ 9 48 50]\n",
            " [44 18 43]\n",
            " [56 70 52]]\n",
            "\n",
            "[[48 50 22]\n",
            " [18 43 87]\n",
            " [70 52 96]]\n",
            "\n",
            "[[60 10  9]\n",
            " [54 79 66]\n",
            " [ 6 87 12]]\n",
            "\n",
            "[[10  9 24]\n",
            " [79 66 14]\n",
            " [87 12  9]]\n",
            "\n",
            "[[ 9 24 59]\n",
            " [66 14  7]\n",
            " [12  9 15]]\n",
            "\n",
            "[[24 59 59]\n",
            " [14  7 55]\n",
            " [ 9 15 57]]\n",
            "\n",
            "[[59 59 44]\n",
            " [ 7 55 56]\n",
            " [15 57 93]]\n",
            "\n",
            "[[59 44 18]\n",
            " [55 56 70]\n",
            " [57 93 75]]\n",
            "\n",
            "[[44 18 43]\n",
            " [56 70 52]\n",
            " [93 75 36]]\n",
            "\n",
            "[[18 43 87]\n",
            " [70 52 96]\n",
            " [75 36 73]]\n",
            "\n",
            "[[54 79 66]\n",
            " [ 6 87 12]\n",
            " [52 12 61]]\n",
            "\n",
            "[[79 66 14]\n",
            " [87 12  9]\n",
            " [12 61 81]]\n",
            "\n",
            "[[66 14  7]\n",
            " [12  9 15]\n",
            " [61 81 20]]\n",
            "\n",
            "[[14  7 55]\n",
            " [ 9 15 57]\n",
            " [81 20 90]]\n",
            "\n",
            "[[ 7 55 56]\n",
            " [15 57 93]\n",
            " [20 90 47]]\n",
            "\n",
            "[[55 56 70]\n",
            " [57 93 75]\n",
            " [90 47 73]]\n",
            "\n",
            "[[56 70 52]\n",
            " [93 75 36]\n",
            " [47 73 92]]\n",
            "\n",
            "[[70 52 96]\n",
            " [75 36 73]\n",
            " [73 92 25]]\n",
            "\n"
          ]
        }
      ]
    },
    {
      "cell_type": "markdown",
      "source": [
        "85. Create a 2D array subclass such that Z[i,j] == Z[j,i]"
      ],
      "metadata": {
        "id": "9MtVXpObw1mh"
      }
    },
    {
      "cell_type": "code",
      "source": [
        "# 85. Create a 2D array subclass such that Z[i,j] == Z[j,i]\n",
        "import numpy as np\n",
        "\n",
        "class SymmetricArray(np.ndarray):\n",
        "    def __new__(cls, input_array):\n",
        "        # Create a new instance of SymmetricArray, ensuring it is a 2D array\n",
        "        obj = np.asarray(input_array).view(cls)\n",
        "        # Ensure the array is square (for symmetry)\n",
        "        if obj.shape[0] != obj.shape[1]:\n",
        "            raise ValueError(\"Array must be square to be symmetric.\")\n",
        "        return obj\n",
        "\n",
        "    def __getitem__(self, idx):\n",
        "        i, j = idx\n",
        "        if i != j:  # Ensure symmetry during access\n",
        "            return super().__getitem__((j, i))  # Return the transposed index element\n",
        "        return super().__getitem__(idx)  # Access normal element\n",
        "\n",
        "    def __setitem__(self, idx, value):\n",
        "        i, j = idx\n",
        "        super().__setitem__((i, j), value)  # Set the value at (i, j)\n",
        "        if i != j:\n",
        "            super().__setitem__((j, i), value)  # Set the symmetric value at (j, i)\n",
        "\n",
        "# Example usage:\n",
        "# Create a symmetric array with an initial 3x3 matrix\n",
        "arr = SymmetricArray([[1, 2, 3], [2, 4, 5], [3, 5, 6]])\n",
        "\n",
        "# Accessing elements\n",
        "print(arr[0, 1])  # Should return 2 (same as arr[1, 0])\n",
        "print(arr[1, 2])  # Should return 5 (same as arr[2, 1])\n",
        "\n",
        "# Modifying elements\n",
        "arr[0, 1] = 10  # This will also set arr[1, 0] = 10\n",
        "print(arr)\n"
      ],
      "metadata": {
        "colab": {
          "base_uri": "https://localhost:8080/"
        },
        "id": "9znYRKxCw2Yk",
        "outputId": "1c592dd4-35e8-4c18-d5d5-517c58b119bf"
      },
      "execution_count": 17,
      "outputs": [
        {
          "output_type": "stream",
          "name": "stdout",
          "text": [
            "2\n",
            "5\n",
            "[[ 1 10  3]\n",
            " [10  4  5]\n",
            " [ 3  5  6]]\n"
          ]
        }
      ]
    },
    {
      "cell_type": "markdown",
      "source": [
        "86. Consider a set of p matrices wich shape (n,n) and a set of p vectors with shape (n,1). How to compute the sum of of the p matrix products at once? (result has shape (n,1))"
      ],
      "metadata": {
        "id": "tr2YmObjxD5w"
      }
    },
    {
      "cell_type": "code",
      "source": [
        "# 86. Consider a set of p matrices wich shape (n,n) and a set of p vectors with shape (n,1).\n",
        "# How to compute the sum of of the p matrix products at once? (result has shape (n,1))\n",
        "\n",
        "import numpy as np\n",
        "\n",
        "# Example: p matrices with shape (n, n) and p vectors with shape (n, 1)\n",
        "p = 3  # Number of matrices and vectors\n",
        "n = 4  # Shape of the matrices and vectors (n, n) and (n, 1)\n",
        "\n",
        "# Randomly generate p matrices and p vectors\n",
        "matrices = np.random.rand(p, n, n)  # Shape: (p, n, n)\n",
        "vectors = np.random.rand(p, n, 1)  # Shape: (p, n, 1)\n",
        "\n",
        "# Compute the sum of the matrix-vector products\n",
        "result = np.sum(matrices @ vectors, axis=0)\n",
        "\n",
        "print(\"Sum of matrix-vector products:\")\n",
        "print(result)\n"
      ],
      "metadata": {
        "colab": {
          "base_uri": "https://localhost:8080/"
        },
        "id": "bHLPZQMtxEfN",
        "outputId": "a0f6337e-5e37-46a8-f841-c7db97d0bb15"
      },
      "execution_count": 18,
      "outputs": [
        {
          "output_type": "stream",
          "name": "stdout",
          "text": [
            "Sum of matrix-vector products:\n",
            "[[2.74561696]\n",
            " [2.61752192]\n",
            " [3.20673678]\n",
            " [2.19983225]]\n"
          ]
        }
      ]
    },
    {
      "cell_type": "markdown",
      "source": [
        "87. Consider a 16x16 array, how to get the block-sum (block size is 4x4)?"
      ],
      "metadata": {
        "id": "YxW1YW7HxVSc"
      }
    },
    {
      "cell_type": "code",
      "source": [
        "# 87. Consider a 16x16 array, how to get the block-sum (block size is 4x4)?\n",
        "import numpy as np\n",
        "\n",
        "# Create a random 16x16 array\n",
        "arr = np.random.randint(1, 10, size=(16, 16))\n",
        "\n",
        "# Function to compute the block-sum\n",
        "def block_sum(arr, block_size):\n",
        "    # Get the shape of the input array\n",
        "    nrows, ncols = arr.shape\n",
        "\n",
        "    # Number of blocks in each dimension\n",
        "    blocks_per_row = nrows // block_size\n",
        "    blocks_per_col = ncols // block_size\n",
        "\n",
        "    # Initialize an array to store the block sums\n",
        "    block_sums = np.zeros((blocks_per_row, blocks_per_col), dtype=arr.dtype)\n",
        "\n",
        "    # Compute the sum for each block\n",
        "    for i in range(blocks_per_row):\n",
        "        for j in range(blocks_per_col):\n",
        "            # Slice the block and sum its values\n",
        "            block = arr[i*block_size:(i+1)*block_size, j*block_size:(j+1)*block_size]\n",
        "            block_sums[i, j] = np.sum(block)\n",
        "\n",
        "    return block_sums\n",
        "\n",
        "# Compute the block sum with block size 4x4\n",
        "block_sums = block_sum(arr, 4)\n",
        "\n",
        "print(\"Original 16x16 array:\")\n",
        "print(arr)\n",
        "\n",
        "print(\"\\nBlock sum (4x4 blocks):\")\n",
        "print(block_sums)\n"
      ],
      "metadata": {
        "colab": {
          "base_uri": "https://localhost:8080/"
        },
        "id": "auIAa1RoxV_F",
        "outputId": "9d3bc44a-590a-4db3-e361-0ba3c70ef8ab"
      },
      "execution_count": 19,
      "outputs": [
        {
          "output_type": "stream",
          "name": "stdout",
          "text": [
            "Original 16x16 array:\n",
            "[[2 8 8 3 8 8 4 3 3 1 8 4 7 4 9 9]\n",
            " [9 2 3 1 7 1 6 6 5 1 7 9 6 4 1 7]\n",
            " [2 3 4 8 1 7 7 6 1 2 6 9 7 1 5 5]\n",
            " [9 9 4 5 9 8 6 6 3 9 3 1 1 1 5 6]\n",
            " [2 8 2 4 2 9 5 4 4 9 8 4 2 1 4 9]\n",
            " [8 7 5 9 6 8 9 9 1 3 3 7 9 7 5 8]\n",
            " [9 8 9 7 9 6 4 6 5 2 8 1 2 6 5 9]\n",
            " [4 5 7 8 4 1 9 9 2 3 8 2 4 8 1 7]\n",
            " [7 4 6 2 4 4 6 6 9 1 2 8 7 1 3 9]\n",
            " [5 8 7 1 6 9 2 2 2 7 9 2 5 4 2 9]\n",
            " [6 3 3 3 3 9 9 5 4 8 8 3 6 5 1 9]\n",
            " [9 9 4 7 4 3 3 6 6 3 2 6 7 8 2 1]\n",
            " [8 7 6 2 3 7 2 2 4 5 9 9 5 7 8 4]\n",
            " [9 1 6 3 9 1 5 2 1 7 3 8 1 6 7 2]\n",
            " [2 1 3 4 7 3 4 5 5 6 4 8 2 9 2 3]\n",
            " [1 3 4 4 6 8 9 9 5 1 1 8 7 9 4 2]]\n",
            "\n",
            "Block sum (4x4 blocks):\n",
            "[[ 80  93  72  78]\n",
            " [102 100  70  87]\n",
            " [ 84  81  80  79]\n",
            " [ 64  82  84  78]]\n"
          ]
        }
      ]
    },
    {
      "cell_type": "markdown",
      "source": [
        "88. How to implement the Game of Life using numpy arrays?"
      ],
      "metadata": {
        "id": "PkI9wmQoxfHG"
      }
    },
    {
      "cell_type": "code",
      "source": [
        "# 88. How to implement the Game of Life using numpy arrays?\n",
        "import numpy as np\n",
        "import matplotlib.pyplot as plt\n",
        "import matplotlib.animation as animation\n",
        "\n",
        "# Initialize a random grid for the Game of Life\n",
        "def initialize_grid(n, p=0.5):\n",
        "    \"\"\" Initialize an n x n grid with random alive cells. \"\"\"\n",
        "    return np.random.choice([0, 1], size=(n, n), p=[1-p, p])\n",
        "\n",
        "def count_neighbors(grid):\n",
        "    \"\"\" Count live neighbors for each cell. \"\"\"\n",
        "    # Create an array to store the number of neighbors\n",
        "    neighbors = np.zeros_like(grid)\n",
        "\n",
        "    # Iterate over all cells to count neighbors using convolution\n",
        "    for i in range(1, grid.shape[0] - 1):\n",
        "        for j in range(1, grid.shape[1] - 1):\n",
        "            # Slice the 3x3 block around each cell (including itself)\n",
        "            block = grid[i-1:i+2, j-1:j+2]\n",
        "            # Count the live neighbors (ignore the center cell)\n",
        "            neighbors[i, j] = np.sum(block) - grid[i, j]\n",
        "\n",
        "    return neighbors\n",
        "\n",
        "def game_of_life_step(grid):\n",
        "    \"\"\" Apply one step of the Game of Life rules. \"\"\"\n",
        "    neighbors = count_neighbors(grid)\n",
        "\n",
        "    # Apply the Game of Life rules\n",
        "    new_grid = np.zeros_like(grid)\n",
        "\n",
        "    # Rule 1 and 2: Any live cell with fewer than two live neighbors dies (underpopulation)\n",
        "    # Any live cell with two or three live neighbors stays alive (stable population)\n",
        "    new_grid[(grid == 1) & ((neighbors == 2) | (neighbors == 3))] = 1\n",
        "\n",
        "    # Rule 3: Any dead cell with exactly three live neighbors becomes a live cell (reproduction)\n",
        "    new_grid[(grid == 0) & (neighbors == 3)] = 1\n",
        "\n",
        "    return new_grid\n",
        "\n",
        "# Visualization using matplotlib\n",
        "def animate_game_of_life(grid, generations=100):\n",
        "    \"\"\" Animate the Game of Life for a set number of generations. \"\"\"\n",
        "    fig, ax = plt.subplots()\n",
        "    ax.set_title(\"Game of Life\")\n",
        "\n",
        "    # Create an initial image\n",
        "    img = ax.imshow(grid, cmap='gray', interpolation='nearest')\n",
        "\n",
        "    def update(frame):\n",
        "        nonlocal grid\n",
        "        grid = game_of_life_step(grid)\n",
        "        img.set_data(grid)\n",
        "        return [img]\n",
        "\n",
        "    ani = animation.FuncAnimation(fig, update, frames=generations, interval=100, blit=True)\n",
        "    plt.show()\n",
        "\n",
        "# Example Usage\n",
        "n = 50  # Grid size (50x50)\n",
        "initial_grid = initialize_grid(n, p=0.3)  # Probability of a cell being alive is 30%\n",
        "animate_game_of_life(initial_grid, generations=100)\n"
      ],
      "metadata": {
        "colab": {
          "base_uri": "https://localhost:8080/",
          "height": 452
        },
        "id": "czy1MXvaxhqI",
        "outputId": "5df2524e-038f-4109-d44a-f0bef14832ed"
      },
      "execution_count": 20,
      "outputs": [
        {
          "output_type": "display_data",
          "data": {
            "text/plain": [
              "<Figure size 640x480 with 1 Axes>"
            ],
            "image/png": "[encoded data removed]"
          },
          "metadata": {}
        }
      ]
    },
    {
      "cell_type": "markdown",
      "source": [
        "89. How to get the n largest values of an array"
      ],
      "metadata": {
        "id": "aY6tdRZCx3PA"
      }
    },
    {
      "cell_type": "code",
      "source": [
        "# 89. How to get the n largest values of an array\n",
        "import numpy as np\n",
        "\n",
        "# Example array\n",
        "arr = np.array([1, 5, 3, 9, 8, 2, 7, 6, 4])\n",
        "\n",
        "# Number of largest values to get\n",
        "n = 3\n",
        "\n",
        "# Get the n largest values\n",
        "largest_values = np.partition(arr, -n)[-n:]\n",
        "\n",
        "print(\"The n largest values:\", largest_values)\n",
        "\n",
        "# using argsort\n",
        "# Get the indices of the n largest values\n",
        "indices = np.argsort(arr)[-n:]\n",
        "\n",
        "# Use the indices to get the n largest values\n",
        "largest_values_argsort = arr[indices]\n",
        "\n",
        "print(\"The n largest values:\", largest_values_argsort)\n"
      ],
      "metadata": {
        "colab": {
          "base_uri": "https://localhost:8080/"
        },
        "id": "XUkl5mONx4FN",
        "outputId": "18616e32-1302-4d4c-d942-a3186f913a0e"
      },
      "execution_count": 22,
      "outputs": [
        {
          "output_type": "stream",
          "name": "stdout",
          "text": [
            "The n largest values: [7 9 8]\n",
            "The n largest values: [7 8 9]\n"
          ]
        }
      ]
    },
    {
      "cell_type": "markdown",
      "source": [
        "90. Given an arbitrary number of vectors, build the cartesian product (every combinations of every item)"
      ],
      "metadata": {
        "id": "YJ7DhJIjyg2t"
      }
    },
    {
      "cell_type": "code",
      "source": [
        "# 90. Given an arbitrary number of vectors, build the cartesian product (every combinations of every item)\n",
        "import numpy as np\n",
        "\n",
        "# Example vectors\n",
        "vectors = [\n",
        "    np.array([1, 2, 3]),     # First vector\n",
        "    np.array(['a', 'b']),     # Second vector\n",
        "    np.array([True, False])   # Third vector\n",
        "]\n",
        "\n",
        "# Compute the Cartesian product using np.meshgrid\n",
        "mesh = np.meshgrid(*vectors)\n",
        "\n",
        "# Reshape the meshgrid into a list of combinations\n",
        "cartesian_product = np.vstack([m.ravel() for m in mesh]).T\n",
        "\n",
        "# Print the result\n",
        "print(\"Cartesian Product:\")\n",
        "print(cartesian_product)\n"
      ],
      "metadata": {
        "colab": {
          "base_uri": "https://localhost:8080/"
        },
        "id": "FHPOugXcyhhm",
        "outputId": "5175c757-98a3-444c-cef2-ed3fa21df0c5"
      },
      "execution_count": 23,
      "outputs": [
        {
          "output_type": "stream",
          "name": "stdout",
          "text": [
            "Cartesian Product:\n",
            "[['1' 'a' 'True']\n",
            " ['1' 'a' 'False']\n",
            " ['2' 'a' 'True']\n",
            " ['2' 'a' 'False']\n",
            " ['3' 'a' 'True']\n",
            " ['3' 'a' 'False']\n",
            " ['1' 'b' 'True']\n",
            " ['1' 'b' 'False']\n",
            " ['2' 'b' 'True']\n",
            " ['2' 'b' 'False']\n",
            " ['3' 'b' 'True']\n",
            " ['3' 'b' 'False']]\n"
          ]
        }
      ]
    },
    {
      "cell_type": "markdown",
      "source": [
        "91. How to create a record array from a regular array?\n",
        "\n",
        "Steps to create a record array:\n",
        "\n",
        "Create a regular array: This is a standard NumPy array.\n",
        "\n",
        "Define field names: You need to provide names for the fields that will be used to access the array's columns.\n",
        "\n",
        "Use fromarrays: This function creates a record array from the input arrays and field names."
      ],
      "metadata": {
        "id": "T1JZgtnzyxVv"
      }
    },
    {
      "cell_type": "code",
      "source": [
        "# 91. How to create a record array from a regular array?\n",
        "import numpy as np\n",
        "\n",
        "# Create a regular NumPy array\n",
        "data = np.array([[1, 'Alice', 25],\n",
        "                 [2, 'Bob', 30],\n",
        "                 [3, 'Charlie', 35]])\n",
        "\n",
        "# Define field names for the record array\n",
        "field_names = ['id', 'name', 'age']\n",
        "\n",
        "# Convert to a record array\n",
        "record_array = np.core.records.fromarrays(data.T, names=field_names)\n",
        "\n",
        "# Access fields using attribute-style access\n",
        "print(record_array.id)   # Access 'id' column\n",
        "print(record_array.name) # Access 'name' column\n",
        "print(record_array.age)  # Access 'age' column\n",
        "\n",
        "# Access specific record using indexing\n",
        "print(record_array[0])   # Access first record\n"
      ],
      "metadata": {
        "colab": {
          "base_uri": "https://localhost:8080/"
        },
        "id": "rugIvJm2yyHT",
        "outputId": "403ccef0-961e-4011-d9bb-6f6d1c13fc18"
      },
      "execution_count": 24,
      "outputs": [
        {
          "output_type": "stream",
          "name": "stdout",
          "text": [
            "['1' '2' '3']\n",
            "['Alice' 'Bob' 'Charlie']\n",
            "['25' '30' '35']\n",
            "('1', 'Alice', '25')\n"
          ]
        }
      ]
    },
    {
      "cell_type": "markdown",
      "source": [
        "Explanation:\n",
        "Regular Array (data): This is a 2D array, where each row contains information about a person (ID, name, age).\n",
        "\n",
        "Transpose the Data (data.T): When using fromarrays, the data needs to be transposed because the function expects each array passed in as a separate column.\n",
        "\n",
        "Field Names (field_names): These names (id, name, age) are used as attributes for each column in the record array.\n",
        "\n",
        "Accessing Fields: Once converted, you can access the fields using attributes like record_array.id, record_array.name, etc., making the code more readable."
      ],
      "metadata": {
        "id": "2PpB_iLgzQmK"
      }
    },
    {
      "cell_type": "markdown",
      "source": [
        "**92. Consider a large vector Z, compute Z to the power of 3 using 3 different methods**"
      ],
      "metadata": {
        "id": "PdychOiCzo7k"
      }
    },
    {
      "cell_type": "code",
      "source": [
        "# 92. Consider a large vector Z, compute Z to the power of 3 using 3 different methods\n",
        "\n",
        "# Method 1 :Element-wise Exponentiation with NumPy\n",
        "# Example large vector Z\n",
        "Z = np.random.rand(1000000)  # Large vector of size 1 million\n",
        "\n",
        "# Method 1: Element-wise exponentiation\n",
        "Z_cubed_1 = Z ** 3\n",
        "\n",
        "print(\"Method 1 result:\", Z_cubed_1[:5])  # Show the first few elements\n",
        "\n",
        "\n",
        "# Method 2: Using np.power()\n",
        "Z_cubed_2 = np.power(Z, 3)\n",
        "\n",
        "print(\"Method 2 result:\", Z_cubed_2[:5])  # Show the first few elements\n",
        "\n",
        "\n",
        "# Method 3: Using np.multiply() for element-wise multiplication\n",
        "Z_cubed_3 = np.multiply(Z, np.multiply(Z, Z))\n",
        "\n",
        "print(\"Method 3 result:\", Z_cubed_3[:5])  # Show the first few elements"
      ],
      "metadata": {
        "colab": {
          "base_uri": "https://localhost:8080/"
        },
        "id": "WSItRhCEzpwP",
        "outputId": "d3a27b53-fb66-47ee-da03-3934642f9daf"
      },
      "execution_count": 26,
      "outputs": [
        {
          "output_type": "stream",
          "name": "stdout",
          "text": [
            "Method 1 result: [0.29734156 0.72272753 0.00524673 0.05688153 0.08626398]\n",
            "Method 2 result: [0.29734156 0.72272753 0.00524673 0.05688153 0.08626398]\n",
            "Method 3 result: [0.29734156 0.72272753 0.00524673 0.05688153 0.08626398]\n"
          ]
        }
      ]
    },
    {
      "cell_type": "markdown",
      "source": [
        "93. Consider two arrays A and B of shape (8,3) and (2,2). How to find rows of A that contain elements of each row of B regardless of the order of the elements in B?"
      ],
      "metadata": {
        "id": "XxcXfVxL1J1M"
      }
    },
    {
      "cell_type": "code",
      "source": [
        "# 93. Consider two arrays A and B of shape (8,3) and (2,2). How to find rows of A that contain elements\n",
        "# of each row of B regardless of the order of the elements in B?\n",
        "import numpy as np\n",
        "\n",
        "# Example arrays\n",
        "A = np.array([[1, 2, 3],\n",
        "              [4, 5, 6],\n",
        "              [7, 8, 9],\n",
        "              [1, 3, 2],\n",
        "              [9, 7, 8],\n",
        "              [5, 6, 4],\n",
        "              [1, 2, 4],\n",
        "              [3, 1, 2]])\n",
        "\n",
        "B = np.array([[2, 1],\n",
        "              [5, 6]])\n",
        "\n",
        "# Find rows of A that contain all elements of each row of B (order does not matter)\n",
        "result = []\n",
        "for b_row in B:\n",
        "    # Convert the current row of B to a set\n",
        "    b_set = set(b_row)\n",
        "\n",
        "    # Check each row of A\n",
        "    for i, a_row in enumerate(A):\n",
        "        if b_set.issubset(set(a_row)):  # If all elements of B's row are in A's row\n",
        "            result.append(i)\n",
        "\n",
        "# Get unique rows of A that satisfy the condition\n",
        "unique_rows = np.unique(result)\n",
        "\n",
        "print(\"Rows of A that contain elements of each row in B:\")\n",
        "print(A[unique_rows])\n"
      ],
      "metadata": {
        "colab": {
          "base_uri": "https://localhost:8080/"
        },
        "id": "imkGltpO1Kql",
        "outputId": "e0858178-0423-4776-f7a1-487e0d4bde6f"
      },
      "execution_count": 27,
      "outputs": [
        {
          "output_type": "stream",
          "name": "stdout",
          "text": [
            "Rows of A that contain elements of each row in B:\n",
            "[[1 2 3]\n",
            " [4 5 6]\n",
            " [1 3 2]\n",
            " [5 6 4]\n",
            " [1 2 4]\n",
            " [3 1 2]]\n"
          ]
        }
      ]
    },
    {
      "cell_type": "markdown",
      "source": [
        "94. Considering a 10x3 matrix, extract rows with unequal values (e.g. [2,2,3])"
      ],
      "metadata": {
        "id": "wNYS0R0Q1bfV"
      }
    },
    {
      "cell_type": "code",
      "source": [
        "# 94. Considering a 10x3 matrix, extract rows with unequal values (e.g. [2,2,3])\n",
        "import numpy as np\n",
        "\n",
        "# Example 10x3 matrix\n",
        "matrix = np.array([[1, 2, 3],\n",
        "                   [2, 2, 3],\n",
        "                   [4, 5, 6],\n",
        "                   [7, 8, 7],\n",
        "                   [9, 10, 11],\n",
        "                   [12, 12, 13],\n",
        "                   [14, 15, 16],\n",
        "                   [17, 18, 17],\n",
        "                   [19, 20, 21],\n",
        "                   [22, 22, 23]])\n",
        "\n",
        "# Extract rows with unequal values (all elements are distinct in the row)\n",
        "rows_with_unequal_values = matrix[np.array([len(np.unique(row)) == len(row) for row in matrix])]\n",
        "\n",
        "print(\"Rows with unequal values:\")\n",
        "print(rows_with_unequal_values)\n"
      ],
      "metadata": {
        "colab": {
          "base_uri": "https://localhost:8080/"
        },
        "id": "QSAob4xP1ejh",
        "outputId": "10d18ba1-9cb1-47fc-aea5-b411d16ed654"
      },
      "execution_count": 28,
      "outputs": [
        {
          "output_type": "stream",
          "name": "stdout",
          "text": [
            "Rows with unequal values:\n",
            "[[ 1  2  3]\n",
            " [ 4  5  6]\n",
            " [ 9 10 11]\n",
            " [14 15 16]\n",
            " [19 20 21]]\n"
          ]
        }
      ]
    },
    {
      "cell_type": "markdown",
      "source": [
        "95. Convert a vector of ints into a matrix binary representation"
      ],
      "metadata": {
        "id": "2Z_i7SNh1qs3"
      }
    },
    {
      "cell_type": "code",
      "source": [
        "# 95. Convert a vector of ints into a matrix binary representation\n",
        "import numpy as np\n",
        "\n",
        "# Example vector of integers\n",
        "vector = np.array([3, 5, 9, 15])\n",
        "\n",
        "# Step 1: Find the number of bits required (based on the maximum number)\n",
        "max_bits = np.max(vector).bit_length()  # Use np.max() to get the largest element and apply bit_length\n",
        "\n",
        "# Step 2: Convert each integer to its binary representation and pad them\n",
        "binary_matrix = np.array([list(np.binary_repr(num, width=max_bits)) for num in vector], dtype=int)\n",
        "\n",
        "print(\"Matrix binary representation:\")\n",
        "print(binary_matrix)\n"
      ],
      "metadata": {
        "colab": {
          "base_uri": "https://localhost:8080/",
          "height": 211
        },
        "collapsed": true,
        "id": "SQzuKQXD1rqP",
        "outputId": "147fc954-b924-4bc6-c19b-0aac96ff12e8"
      },
      "execution_count": 30,
      "outputs": [
        {
          "output_type": "error",
          "ename": "AttributeError",
          "evalue": "'numpy.int64' object has no attribute 'bit_length'",
          "traceback": [
            "\u001b[0;31m---------------------------------------------------------------------------\u001b[0m",
            "\u001b[0;31mAttributeError\u001b[0m                            Traceback (most recent call last)",
            "\u001b[0;32m<ipython-input-30-163c0b0ca3eb>\u001b[0m in \u001b[0;36m<cell line: 8>\u001b[0;34m()\u001b[0m\n\u001b[1;32m      6\u001b[0m \u001b[0;34m\u001b[0m\u001b[0m\n\u001b[1;32m      7\u001b[0m \u001b[0;31m# Step 1: Find the number of bits required (based on the maximum number)\u001b[0m\u001b[0;34m\u001b[0m\u001b[0;34m\u001b[0m\u001b[0m\n\u001b[0;32m----> 8\u001b[0;31m \u001b[0mmax_bits\u001b[0m \u001b[0;34m=\u001b[0m \u001b[0mnp\u001b[0m\u001b[0;34m.\u001b[0m\u001b[0mmax\u001b[0m\u001b[0;34m(\u001b[0m\u001b[0mvector\u001b[0m\u001b[0;34m)\u001b[0m\u001b[0;34m.\u001b[0m\u001b[0mbit_length\u001b[0m\u001b[0;34m(\u001b[0m\u001b[0;34m)\u001b[0m  \u001b[0;31m# Use np.max() to get the largest element and apply bit_length\u001b[0m\u001b[0;34m\u001b[0m\u001b[0;34m\u001b[0m\u001b[0m\n\u001b[0m\u001b[1;32m      9\u001b[0m \u001b[0;34m\u001b[0m\u001b[0m\n\u001b[1;32m     10\u001b[0m \u001b[0;31m# Step 2: Convert each integer to its binary representation and pad them\u001b[0m\u001b[0;34m\u001b[0m\u001b[0;34m\u001b[0m\u001b[0m\n",
            "\u001b[0;31mAttributeError\u001b[0m: 'numpy.int64' object has no attribute 'bit_length'"
          ]
        }
      ]
    },
    {
      "cell_type": "markdown",
      "source": [
        "96. Given a two dimensional array, how to extract unique rows?"
      ],
      "metadata": {
        "id": "BMwPwK-W3AYx"
      }
    },
    {
      "cell_type": "code",
      "source": [
        "# 96. Given a two dimensional array, how to extract unique rows?\n",
        "import numpy as np\n",
        "\n",
        "# Example 2D array\n",
        "arr = np.array([[1, 2, 3],\n",
        "                [4, 5, 6],\n",
        "                [1, 2, 3],\n",
        "                [7, 8, 9],\n",
        "                [4, 5, 6]])\n",
        "\n",
        "# Extract unique rows\n",
        "unique_rows = np.unique(arr, axis=0)\n",
        "\n",
        "print(\"Unique rows:\")\n",
        "print(unique_rows)\n"
      ],
      "metadata": {
        "colab": {
          "base_uri": "https://localhost:8080/"
        },
        "id": "a0SG_9bk3BCs",
        "outputId": "56431bcc-f346-431c-8f3b-922f37f76afc"
      },
      "execution_count": 31,
      "outputs": [
        {
          "output_type": "stream",
          "name": "stdout",
          "text": [
            "Unique rows:\n",
            "[[1 2 3]\n",
            " [4 5 6]\n",
            " [7 8 9]]\n"
          ]
        }
      ]
    },
    {
      "cell_type": "markdown",
      "source": [
        "97. Considering 2 vectors A & B, write the einsum equivalent of inner, outer, sum, and mul function"
      ],
      "metadata": {
        "id": "xYVQXg8l3eMc"
      }
    },
    {
      "cell_type": "code",
      "source": [
        "# 97. Considering 2 vectors A & B, write the einsum equivalent of inner, outer, sum, and mul function\n",
        "import numpy as np\n",
        "\n",
        "A = np.array([1, 2, 3])\n",
        "B = np.array([4, 5, 6])\n",
        "\n",
        "# Inner product using einsum\n",
        "inner_product = np.einsum('i,i', A, B)\n",
        "print('inner product ', inner_product)\n",
        "\n",
        "# Outer product using einsum\n",
        "outer_product = np.einsum('i,j', A, B)\n",
        "print('outer product \\n', outer_product)\n",
        "\n",
        "# Sum of elements using einsum\n",
        "total_sum = np.einsum('i', A)\n",
        "print('total sum ', total_sum)\n",
        "\n",
        "# Element-wise multiplication using einsum\n",
        "elementwise_multiplication = np.einsum('i,i', A, B)\n",
        "print('elementwise multiplication ', elementwise_multiplication)\n"
      ],
      "metadata": {
        "colab": {
          "base_uri": "https://localhost:8080/"
        },
        "id": "-ncNUy_s3gqw",
        "outputId": "7a9c41e3-f7ab-49af-bb1e-c44141a2b06c"
      },
      "execution_count": 37,
      "outputs": [
        {
          "output_type": "stream",
          "name": "stdout",
          "text": [
            "inner product  32\n",
            "outer product \n",
            " [[ 4  5  6]\n",
            " [ 8 10 12]\n",
            " [12 15 18]]\n",
            "total sum  [1 2 3]\n",
            "elementwise multiplication  32\n"
          ]
        }
      ]
    },
    {
      "cell_type": "markdown",
      "source": [
        "98. Considering a path described by two vectors (X,Y), how to sample it using equidistant samples"
      ],
      "metadata": {
        "id": "U3fFCsfM4W6G"
      }
    },
    {
      "cell_type": "code",
      "source": [
        "# 98. Considering a path described by two vectors (X,Y), how to sample it using equidistant samples\n",
        "import numpy as np\n",
        "\n",
        "# Example vectors X and Y representing the path\n",
        "X = np.array([0, 1, 2, 3, 4])\n",
        "Y = np.array([0, 1, 0, -1, 0])\n",
        "\n",
        "# Step 1: Calculate the distances between consecutive points\n",
        "distances = np.sqrt(np.diff(X)**2 + np.diff(Y)**2)\n",
        "\n",
        "# Step 2: Calculate the cumulative distances (total length of the path)\n",
        "cumulative_distances = np.insert(np.cumsum(distances), 0, 0)  # Add 0 at the start for the first point\n",
        "\n",
        "# Step 3: Total length of the path\n",
        "total_length = cumulative_distances[-1]\n",
        "\n",
        "# Step 4: Define the number of samples and calculate equidistant sample points\n",
        "num_samples = 10\n",
        "sample_distances = np.linspace(0, total_length, num_samples)\n",
        "\n",
        "# Step 5: Interpolate to get the X, Y coordinates of the equidistant points\n",
        "sample_X = np.interp(sample_distances, cumulative_distances, X)\n",
        "sample_Y = np.interp(sample_distances, cumulative_distances, Y)\n",
        "\n",
        "# Print the equidistant samples\n",
        "print(\"Equidistant samples:\")\n",
        "print(\"X:\", sample_X)\n",
        "print(\"Y:\", sample_Y)\n"
      ],
      "metadata": {
        "colab": {
          "base_uri": "https://localhost:8080/"
        },
        "id": "mx03bPFK4aHD",
        "outputId": "55a4ce6b-08aa-4fee-9a96-dd65598610dd"
      },
      "execution_count": 38,
      "outputs": [
        {
          "output_type": "stream",
          "name": "stdout",
          "text": [
            "Equidistant samples:\n",
            "X: [0.         0.44444444 0.88888889 1.33333333 1.77777778 2.22222222\n",
            " 2.66666667 3.11111111 3.55555556 4.        ]\n",
            "Y: [ 0.          0.44444444  0.88888889  0.66666667  0.22222222 -0.22222222\n",
            " -0.66666667 -0.88888889 -0.44444444  0.        ]\n"
          ]
        }
      ]
    },
    {
      "cell_type": "markdown",
      "source": [
        "99. Given an integer n and a 2D array X, select from X the rows which can be interpreted as draws from a multinomial distribution with n degrees, i.e., the rows which only contain integers and which sum to n."
      ],
      "metadata": {
        "id": "M2qmHRdm4unP"
      }
    },
    {
      "cell_type": "code",
      "source": [
        "# 99. Given an integer n and a 2D array X, select from X the rows which can be interpreted as draws\n",
        "# from a multinomial distribution with n degrees, i.e., the rows which only contain integers and which sum to n.\n",
        "import numpy as np\n",
        "\n",
        "def select_multinomial_rows(X, n):\n",
        "    # Check if rows are valid multinomial draws\n",
        "    valid_rows = np.sum(X, axis=1) == n  # Check if the sum of each row equals n\n",
        "    return X[valid_rows]\n",
        "\n",
        "# Example: 2D array X and n\n",
        "X = np.array([[1, 2, 3],\n",
        "              [2, 1, 2],\n",
        "              [1, 1, 2],\n",
        "              [3, 3, 3]])\n",
        "\n",
        "n = 6\n",
        "\n",
        "# Get the rows that satisfy the multinomial condition\n",
        "result = select_multinomial_rows(X, n)\n",
        "print(\"Rows that can be interpreted as multinomial draws:\")\n",
        "print(result)\n"
      ],
      "metadata": {
        "colab": {
          "base_uri": "https://localhost:8080/"
        },
        "id": "F-1ZZJZD4vSJ",
        "outputId": "db85eb37-81ff-43c3-f9be-56cff8f5e017"
      },
      "execution_count": 39,
      "outputs": [
        {
          "output_type": "stream",
          "name": "stdout",
          "text": [
            "Rows that can be interpreted as multinomial draws:\n",
            "[[1 2 3]]\n"
          ]
        }
      ]
    },
    {
      "cell_type": "markdown",
      "source": [
        "100. Compute bootstrapped 95% confidence intervals for the mean of a 1D array X (i.e., resample the elements of an array with replacement N times, compute the mean of each sample, and then compute percentiles over the means)."
      ],
      "metadata": {
        "id": "Q49pH0Wq5HYI"
      }
    },
    {
      "cell_type": "code",
      "source": [
        "# 100. Compute bootstrapped 95% confidence intervals for the mean of a 1D array X\n",
        "# (i.e., resample the elements of an array with replacement N times, compute the mean of each sample,\n",
        "# and then compute percentiles over the means).\n",
        "import numpy as np\n",
        "\n",
        "def bootstrap_ci(X, n_bootstrap=10000, confidence_level=0.95):\n",
        "    # Step 1: Create bootstrap samples and compute their means\n",
        "    means = np.empty(n_bootstrap)\n",
        "    for i in range(n_bootstrap):\n",
        "        sample = np.random.choice(X, size=len(X), replace=True)  # Resample with replacement\n",
        "        means[i] = np.mean(sample)  # Compute mean of the sample\n",
        "\n",
        "    # Step 2: Calculate the desired percentiles for the confidence interval\n",
        "    lower_percentile = (1 - confidence_level) / 2 * 100\n",
        "    upper_percentile = (1 + confidence_level) / 2 * 100\n",
        "\n",
        "    ci_lower = np.percentile(means, lower_percentile)\n",
        "    ci_upper = np.percentile(means, upper_percentile)\n",
        "\n",
        "    return ci_lower, ci_upper\n",
        "\n",
        "# Example usage\n",
        "X = np.array([1, 2, 3, 4, 5, 6, 7, 8, 9, 10])  # Example array\n",
        "\n",
        "# Compute the 95% confidence interval for the mean using bootstrap\n",
        "ci_lower, ci_upper = bootstrap_ci(X)\n",
        "\n",
        "print(f\"95% Confidence Interval for the mean: [{ci_lower}, {ci_upper}]\")\n"
      ],
      "metadata": {
        "colab": {
          "base_uri": "https://localhost:8080/"
        },
        "id": "NE06TJr85H8f",
        "outputId": "74ca3f00-17c9-4bc6-85aa-be18a6efb578"
      },
      "execution_count": 40,
      "outputs": [
        {
          "output_type": "stream",
          "name": "stdout",
          "text": [
            "95% Confidence Interval for the mean: [3.7, 7.3]\n"
          ]
        }
      ]
    }
  ]
}