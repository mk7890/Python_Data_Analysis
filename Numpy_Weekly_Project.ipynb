{
  "nbformat": 4,
  "nbformat_minor": 0,
  "metadata": {
    "colab": {
      "provenance": [],
      "authorship_tag": "ABX9TyM2pBuK0Fwgn3biEe/ZjItn",
      "include_colab_link": true
    },
    "kernelspec": {
      "name": "python3",
      "display_name": "Python 3"
    },
    "language_info": {
      "name": "python"
    }
  },
  "cells": [
    {
      "cell_type": "markdown",
      "metadata": {
        "id": "view-in-github",
        "colab_type": "text"
      },
      "source": [
        "<a href=\"https://colab.research.google.com/github/mk7890/Python_Data_Analysis/blob/main/Numpy_Weekly_Project.ipynb\" target=\"_parent\"><img src=\"https://colab.research.google.com/assets/colab-badge.svg\" alt=\"Open In Colab\"/></a>"
      ]
    },
    {
      "cell_type": "markdown",
      "source": [
        "61. Find the nearest value from a given value in an array"
      ],
      "metadata": {
        "id": "xUY0XAxfgz52"
      }
    },
    {
      "cell_type": "code",
      "execution_count": null,
      "metadata": {
        "colab": {
          "base_uri": "https://localhost:8080/"
        },
        "id": "HFcaUhC4gc6p",
        "outputId": "3e88a148-eef8-44a1-b32f-71f6a579e50d"
      },
      "outputs": [
        {
          "output_type": "stream",
          "name": "stdout",
          "text": [
            "The nearest value to 33 is 30\n"
          ]
        }
      ],
      "source": [
        "# 61. Find the nearest value from a given value in an array\n",
        "import numpy as np\n",
        "\n",
        "# Sample array\n",
        "arr = np.array([10, 20, 30, 40, 50])\n",
        "\n",
        "# Given value\n",
        "value = 33\n",
        "\n",
        "# Find the nearest value\n",
        "nearest_value = arr[np.abs(arr - value).argmin()]\n",
        "\n",
        "print(f\"The nearest value to {value} is {nearest_value}\")\n"
      ]
    },
    {
      "cell_type": "markdown",
      "source": [],
      "metadata": {
        "id": "vlZ61dsugyAb"
      }
    },
    {
      "cell_type": "markdown",
      "source": [
        "62. Considering two arrays with shape (1,3) and (3,1), how to compute their sum using an iterator?"
      ],
      "metadata": {
        "id": "Oe-0Wa5ulVeJ"
      }
    },
    {
      "cell_type": "code",
      "source": [
        "# 62. Considering two arrays with shape (1,3) and (3,1), how to compute their sum using an iterator?\n",
        "import numpy as np\n",
        "\n",
        "# Define two arrays\n",
        "a = np.array([[1, 2, 3]])   # Shape (1, 3)\n",
        "b = np.array([[4], [5], [6]])  # Shape (3, 1)\n",
        "\n",
        "# Create an iterator with broadcasting\n",
        "it = np.nditer([a, b, None])\n",
        "\n",
        "# Sum the arrays element-wise using the iterator\n",
        "for x, y, z in it:\n",
        "    z[...] = x + y\n",
        "\n",
        "# Get the result from the iterator\n",
        "result = it.operands[2]\n",
        "\n",
        "print(\"Array a:\\n\", a)\n",
        "print(\"Array b:\\n\", b)\n",
        "print(\"Result of a + b:\\n\", result)\n"
      ],
      "metadata": {
        "colab": {
          "base_uri": "https://localhost:8080/"
        },
        "id": "wGbBTGcQlW3P",
        "outputId": "b605162f-1358-4b81-b201-a90aa75377a5"
      },
      "execution_count": null,
      "outputs": [
        {
          "output_type": "stream",
          "name": "stdout",
          "text": [
            "Array a:\n",
            " [[1 2 3]]\n",
            "Array b:\n",
            " [[4]\n",
            " [5]\n",
            " [6]]\n",
            "Result of a + b:\n",
            " [[5 6 7]\n",
            " [6 7 8]\n",
            " [7 8 9]]\n"
          ]
        }
      ]
    },
    {
      "cell_type": "markdown",
      "source": [
        "63. Create an array class that has a name attribute"
      ],
      "metadata": {
        "id": "jtVvScx_l1A3"
      }
    },
    {
      "cell_type": "code",
      "source": [
        "# 63. Create an array class that has a name attribute\n",
        "import numpy as np\n",
        "\n",
        "class NamedArray(np.ndarray):\n",
        "    def __new__(cls, input_array, name=\"Unnamed\"):\n",
        "        # Create a new instance of the class, which is essentially an ndarray\n",
        "        obj = np.asarray(input_array).view(cls)\n",
        "        # Add the 'name' attribute to the array object\n",
        "        obj.name = name\n",
        "        return obj\n",
        "\n",
        "    def __str__(self):\n",
        "        # Custom string representation to include the name of the array\n",
        "        return f\"NamedArray(name={self.name}, data={super().__str__()})\"\n",
        "\n",
        "# Create a NamedArray instance\n",
        "arr = NamedArray([1, 2, 3, 4], name=\"MyArray\")\n",
        "\n",
        "# Access the name attribute\n",
        "print(f\"Array name: {arr.name}\")\n",
        "# Print the array using the custom string method\n",
        "print(arr)\n"
      ],
      "metadata": {
        "colab": {
          "base_uri": "https://localhost:8080/"
        },
        "id": "6k37weIel2DT",
        "outputId": "b18d745f-328d-4f09-d8f9-e8e501fa9c3e"
      },
      "execution_count": null,
      "outputs": [
        {
          "output_type": "stream",
          "name": "stdout",
          "text": [
            "Array name: MyArray\n",
            "NamedArray(name=MyArray, data=[1 2 3 4])\n"
          ]
        }
      ]
    },
    {
      "cell_type": "markdown",
      "source": [
        "64. Consider a given vector, how to add 1 to each element indexed by a second vector (be careful with repeated indices)"
      ],
      "metadata": {
        "id": "NWL3BknnmNxf"
      }
    },
    {
      "cell_type": "code",
      "source": [
        "# 64. Consider a given vector, how to add 1 to each element indexed by a second vector (be careful with repeated indices)\n",
        "import numpy as np\n",
        "\n",
        "# Given vectors\n",
        "vector = np.array([10, 20, 30, 40, 50])  # original vector\n",
        "indices = np.array([1, 3, 1, 2])         # indices where we want to add 1 (with repetition)\n",
        "\n",
        "# Add 1 to each element in 'vector' indexed by 'indices'\n",
        "np.add.at(vector, indices, 1)\n",
        "\n",
        "# Print the modified vector\n",
        "print(\"Modified vector:\", vector)\n"
      ],
      "metadata": {
        "colab": {
          "base_uri": "https://localhost:8080/"
        },
        "id": "glZCpM7cmPA9",
        "outputId": "4d9169f7-3ecc-4c8f-dedd-f2ef814d90ff"
      },
      "execution_count": null,
      "outputs": [
        {
          "output_type": "stream",
          "name": "stdout",
          "text": [
            "Modified vector: [10 22 31 41 50]\n"
          ]
        }
      ]
    },
    {
      "cell_type": "markdown",
      "source": [
        "65. How to accumulate elements of a vector (X) to an array (F) based on an index list (I)?"
      ],
      "metadata": {
        "id": "LuQq-JWYmgG7"
      }
    },
    {
      "cell_type": "code",
      "source": [
        "# 65. How to accumulate elements of a vector (X) to an array (F) based on an index list (I)?\n",
        "import numpy as np\n",
        "\n",
        "# Given vector X and index list I\n",
        "X = np.array([10, 20, 30, 40])  # Values to accumulate\n",
        "I = np.array([0, 2, 2, 1])      # Indices in F where X elements should be added\n",
        "\n",
        "# Initialize the target array F with zeros (or any other initial value)\n",
        "F = np.zeros(3)  # F will have 3 elements based on the indices in I\n",
        "\n",
        "# Accumulate elements of X to F based on indices in I\n",
        "np.add.at(F, I, X)\n",
        "\n",
        "# Print the accumulated array F\n",
        "print(\"Accumulated array F:\", F)\n"
      ],
      "metadata": {
        "colab": {
          "base_uri": "https://localhost:8080/"
        },
        "id": "YyAoas3dmg4e",
        "outputId": "12e000d2-2606-4efd-e5e9-f77e7c8f0f36"
      },
      "execution_count": null,
      "outputs": [
        {
          "output_type": "stream",
          "name": "stdout",
          "text": [
            "Accumulated array F: [10. 40. 50.]\n"
          ]
        }
      ]
    },
    {
      "cell_type": "markdown",
      "source": [
        "66. Considering a (w,h,3) image of (dtype=ubyte), compute the number of unique colors"
      ],
      "metadata": {
        "id": "e0tVOEqUnXwS"
      }
    },
    {
      "cell_type": "code",
      "source": [
        "# 66. Considering a (w,h,3) image of (dtype=ubyte), compute the number of unique colors\n",
        "import numpy as np\n",
        "\n",
        "# Example image (w, h, 3) with dtype=ubyte\n",
        "image = np.random.randint(0, 256, size=(4, 4, 3), dtype=np.uint8)  # Example image\n",
        "\n",
        "# Reshape the image to (w*h, 3) to consider each pixel as a row of RGB values\n",
        "pixels = image.reshape(-1, 3)\n",
        "\n",
        "# Find unique rows (RGB combinations)\n",
        "unique_colors = np.unique(pixels, axis=0)\n",
        "\n",
        "# Print the number of unique colors\n",
        "print(\"Number of unique colors:\", unique_colors.shape[0])\n"
      ],
      "metadata": {
        "colab": {
          "base_uri": "https://localhost:8080/"
        },
        "id": "0Hfk0w_ynYoj",
        "outputId": "3a12b767-17ac-44de-9211-a363f96a73c4"
      },
      "execution_count": null,
      "outputs": [
        {
          "output_type": "stream",
          "name": "stdout",
          "text": [
            "Number of unique colors: 16\n"
          ]
        }
      ]
    },
    {
      "cell_type": "markdown",
      "source": [
        "67. Considering a four dimensions array, how to get sum over the last two axis at once?"
      ],
      "metadata": {
        "id": "dEBu0wWspkgO"
      }
    },
    {
      "cell_type": "code",
      "source": [
        "# 67. Considering a four dimensions array, how to get sum over the last two axis at once?\n",
        "import numpy as np\n",
        "\n",
        "# Example 4D array (shape: (w, h, d, e))\n",
        "arr = np.random.randint(0, 10, size=(2, 3, 4, 5))\n",
        "\n",
        "# Sum over the last two axes (axis -2 and -1)\n",
        "result = np.sum(arr, axis=(-2, -1))\n",
        "\n",
        "# Print the result\n",
        "print(\"Shape of the original array:\", arr.shape)\n",
        "print(\"Shape of the result:\", result.shape)\n",
        "print(\"Result:\\n\", result)\n"
      ],
      "metadata": {
        "colab": {
          "base_uri": "https://localhost:8080/"
        },
        "id": "xeI_B_f_ploE",
        "outputId": "1cb191e9-3a7d-459e-9ee1-cfb242d3ce8e"
      },
      "execution_count": null,
      "outputs": [
        {
          "output_type": "stream",
          "name": "stdout",
          "text": [
            "Shape of the original array: (2, 3, 4, 5)\n",
            "Shape of the result: (2, 3)\n",
            "Result:\n",
            " [[ 75 112  94]\n",
            " [ 76  91  86]]\n"
          ]
        }
      ]
    },
    {
      "cell_type": "markdown",
      "source": [
        "68. Considering a one-dimensional vector D, how to compute means of subsets of D using a vector S of same size describing subset indices?"
      ],
      "metadata": {
        "id": "fQaH7dycp5HX"
      }
    },
    {
      "cell_type": "code",
      "source": [
        "# 68. Considering a one-dimensional vector D, how to compute means of subsets of D using a vector S of same size describing subset indices?\n",
        "import numpy as np\n",
        "\n",
        "# Example vector D (data) and S (subset indices)\n",
        "D = np.array([10, 20, 30, 40, 50])  # Data vector\n",
        "S = np.array([0, 1, 0, 1, 0])       # Subset indices\n",
        "\n",
        "# Compute the sum of elements in each subset (grouped by S)\n",
        "subset_sums = np.bincount(S, weights=D)\n",
        "\n",
        "# Compute the count of elements in each subset (grouped by S)\n",
        "subset_counts = np.bincount(S)\n",
        "\n",
        "# Compute the mean for each subset (avoid division by zero by ensuring subset_counts > 0)\n",
        "subset_means = subset_sums / subset_counts\n",
        "\n",
        "# Print the results\n",
        "print(\"Subset means:\", subset_means)\n"
      ],
      "metadata": {
        "colab": {
          "base_uri": "https://localhost:8080/"
        },
        "id": "_5mkwptBp50A",
        "outputId": "77018109-f3bf-4984-a374-91b4876f3854"
      },
      "execution_count": null,
      "outputs": [
        {
          "output_type": "stream",
          "name": "stdout",
          "text": [
            "Subset means: [30. 30.]\n"
          ]
        }
      ]
    },
    {
      "cell_type": "markdown",
      "source": [
        "69. How to get the diagonal of a dot product?"
      ],
      "metadata": {
        "id": "s7oOATOVz71_"
      }
    },
    {
      "cell_type": "code",
      "source": [
        "# 69. How to get the diagonal of a dot product?\n",
        "import numpy as np\n",
        "\n",
        "# Example arrays A and B\n",
        "A = np.array([[1, 2], [3, 4]])\n",
        "B = np.array([[5, 6], [7, 8]])\n",
        "\n",
        "# Compute the dot product of A and B\n",
        "dot_product = np.dot(A, B)\n",
        "\n",
        "# Extract the diagonal of the dot product\n",
        "diagonal = np.diagonal(dot_product)\n",
        "\n",
        "# Print the results\n",
        "print(\"Dot product:\\n\", dot_product)\n",
        "print(\"Diagonal of the dot product:\", diagonal)\n"
      ],
      "metadata": {
        "colab": {
          "base_uri": "https://localhost:8080/"
        },
        "id": "UO5RjTpDz81x",
        "outputId": "a05a60e0-e3da-4eff-f38c-f06c9662da73"
      },
      "execution_count": null,
      "outputs": [
        {
          "output_type": "stream",
          "name": "stdout",
          "text": [
            "Dot product:\n",
            " [[19 22]\n",
            " [43 50]]\n",
            "Diagonal of the dot product: [19 50]\n"
          ]
        }
      ]
    },
    {
      "cell_type": "markdown",
      "source": [
        "70. Consider the vector [1, 2, 3, 4, 5], how to build a new vector with 3 consecutive zeros interleaved between each value?"
      ],
      "metadata": {
        "id": "mf7NAH7G0IoN"
      }
    },
    {
      "cell_type": "code",
      "source": [
        "#70. Consider the vector [1, 2, 3, 4, 5], how to build a new vector with 3 consecutive zeros interleaved between each value?\n",
        "import numpy as np\n",
        "\n",
        "# Original vector\n",
        "original_vector = np.array([1, 2, 3, 4, 5])\n",
        "\n",
        "# Calculate the size of the new array\n",
        "new_size = len(original_vector) + (len(original_vector) - 1) * 3\n",
        "\n",
        "# Create a new array with zeros\n",
        "new_vector = np.zeros(new_size, dtype=int)\n",
        "\n",
        "# Fill the new array with values from the original vector\n",
        "new_vector[::4] = original_vector\n",
        "\n",
        "# Print the result\n",
        "print(\"New vector:\", new_vector)\n"
      ],
      "metadata": {
        "colab": {
          "base_uri": "https://localhost:8080/"
        },
        "id": "KFJ8OTzL0JYw",
        "outputId": "4906e523-ee51-461e-eeea-e4dbebf64d9d"
      },
      "execution_count": null,
      "outputs": [
        {
          "output_type": "stream",
          "name": "stdout",
          "text": [
            "New vector: [1 0 0 0 2 0 0 0 3 0 0 0 4 0 0 0 5]\n"
          ]
        }
      ]
    },
    {
      "cell_type": "markdown",
      "source": [
        "71. Consider an array of dimension (5,5,3), how to mulitply it by an array with dimensions (5,5)?"
      ],
      "metadata": {
        "id": "52P29Pps1vEn"
      }
    },
    {
      "cell_type": "code",
      "source": [
        "# 71. Consider an array of dimension (5,5,3), how to mulitply it by an array with dimensions (5,5)?\n"
      ],
      "metadata": {
        "id": "V8upCt_R1vvW"
      },
      "execution_count": null,
      "outputs": []
    }
  ]
}