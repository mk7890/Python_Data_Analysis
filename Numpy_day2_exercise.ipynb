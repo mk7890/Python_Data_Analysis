{
  "nbformat": 4,
  "nbformat_minor": 0,
  "metadata": {
    "colab": {
      "provenance": [],
      "include_colab_link": true
    },
    "kernelspec": {
      "name": "python3",
      "display_name": "Python 3"
    },
    "language_info": {
      "name": "python"
    }
  },
  "cells": [
    {
      "cell_type": "markdown",
      "metadata": {
        "id": "view-in-github",
        "colab_type": "text"
      },
      "source": [
        "<a href=\"https://colab.research.google.com/github/mk7890/Python_Data_Analysis/blob/main/Numpy_day2_exercise.ipynb\" target=\"_parent\"><img src=\"https://colab.research.google.com/assets/colab-badge.svg\" alt=\"Open In Colab\"/></a>"
      ]
    },
    {
      "cell_type": "markdown",
      "source": [
        "16. How to add a border (filled with 0's) around an existing array?"
      ],
      "metadata": {
        "id": "edfDyQpwZO10"
      }
    },
    {
      "cell_type": "code",
      "execution_count": null,
      "metadata": {
        "colab": {
          "base_uri": "https://localhost:8080/"
        },
        "id": "w30Lp59oZKQO",
        "outputId": "79c21ef5-96c3-448a-843b-f6222bd1edf5"
      },
      "outputs": [
        {
          "output_type": "stream",
          "name": "stdout",
          "text": [
            "Original Array :\n",
            "\n",
            " [[1. 1. 1. 1. 1.]\n",
            " [1. 1. 1. 1. 1.]\n",
            " [1. 1. 1. 1. 1.]\n",
            " [1. 1. 1. 1. 1.]\n",
            " [1. 1. 1. 1. 1.]]\n",
            "Padded Array :\n",
            " [[0. 0. 0. 0. 0. 0. 0.]\n",
            " [0. 1. 1. 1. 1. 1. 0.]\n",
            " [0. 1. 1. 1. 1. 1. 0.]\n",
            " [0. 1. 1. 1. 1. 1. 0.]\n",
            " [0. 1. 1. 1. 1. 1. 0.]\n",
            " [0. 1. 1. 1. 1. 1. 0.]\n",
            " [0. 0. 0. 0. 0. 0. 0.]]\n"
          ]
        }
      ],
      "source": [
        "# 16. How to add a border (filled with 0's) around an existing array?\n",
        "import numpy as np\n",
        "\n",
        "arr = np.ones((5,5))\n",
        "print(f\"Original Array :\\n\\n {arr}\")\n",
        "padded_array = np.pad(arr, pad_width=1, mode='constant', constant_values=0)\n",
        "print(f\"Padded Array :\\n {padded_array}\")"
      ]
    },
    {
      "cell_type": "markdown",
      "source": [
        "17. What is the result of the following expression?"
      ],
      "metadata": {
        "id": "uESgoBABdUXH"
      }
    },
    {
      "cell_type": "code",
      "source": [
        "# 17. What is the result of the following expression?\n",
        "import numpy as np\n",
        "'''\n",
        "0 * np.nan\n",
        "np.nan == np.nan\n",
        "np.inf > np.nan\n",
        "np.nan - np.nan\n",
        "np.nan in set([np.nan])\n",
        "0.3 == 3 * 0.1\n",
        "'''\n",
        "print(0 * np.nan)\n",
        "print(np.nan == np.nan)\n",
        "print(np.inf > np.nan)\n",
        "print(np.nan - np.nan)\n",
        "print(np.nan in set([np.nan]))\n",
        "print(0.3 == 3 * 0.10)"
      ],
      "metadata": {
        "colab": {
          "base_uri": "https://localhost:8080/"
        },
        "id": "udqbgm1Ldbp-",
        "outputId": "85cac0f6-6ed6-4fe2-f0fd-4e1e125b8c81"
      },
      "execution_count": null,
      "outputs": [
        {
          "output_type": "stream",
          "name": "stdout",
          "text": [
            "nan\n",
            "False\n",
            "False\n",
            "nan\n",
            "True\n",
            "False\n"
          ]
        }
      ]
    },
    {
      "cell_type": "markdown",
      "source": [
        "18. Create a 5x5 matrix with values 1,2,3,4 just below the diagonal"
      ],
      "metadata": {
        "id": "NvqeI8IOBYB8"
      }
    },
    {
      "cell_type": "code",
      "source": [
        "# Create a 5x5 matrix with values 1,2,3,4 just below the diagonal\n",
        "import numpy as np\n",
        "\n",
        "arr = np.diag(1+np.arange(4),k=-1)\n",
        "print(arr)"
      ],
      "metadata": {
        "colab": {
          "base_uri": "https://localhost:8080/"
        },
        "id": "4mQ8dSoA_O6Y",
        "outputId": "37150e47-8238-41c0-b900-c30e6feaeb4e"
      },
      "execution_count": null,
      "outputs": [
        {
          "output_type": "stream",
          "name": "stdout",
          "text": [
            "[[0 0 0 0 0]\n",
            " [1 0 0 0 0]\n",
            " [0 2 0 0 0]\n",
            " [0 0 3 0 0]\n",
            " [0 0 0 4 0]]\n"
          ]
        }
      ]
    },
    {
      "cell_type": "markdown",
      "source": [
        "19. Create a 8x8 matrix and fill it with a checkerboard pattern"
      ],
      "metadata": {
        "id": "GQgSigwJBeeo"
      }
    },
    {
      "cell_type": "code",
      "source": [
        "# 19. Create a 8x8 matrix and fill it with a checkerboard pattern\n",
        "import numpy as np\n",
        "\n",
        "matrix = np.ones((8,8), dtype=int)\n",
        "matrix[0::2, 0::2]=0\n",
        "matrix\n"
      ],
      "metadata": {
        "colab": {
          "base_uri": "https://localhost:8080/"
        },
        "id": "RMZnwYlSBh0Z",
        "outputId": "dd289d7c-e1db-4b5f-fecf-e5cdbbfd4b28"
      },
      "execution_count": null,
      "outputs": [
        {
          "output_type": "execute_result",
          "data": {
            "text/plain": [
              "array([[0, 1, 0, 1, 0, 1, 0, 1],\n",
              "       [1, 1, 1, 1, 1, 1, 1, 1],\n",
              "       [0, 1, 0, 1, 0, 1, 0, 1],\n",
              "       [1, 1, 1, 1, 1, 1, 1, 1],\n",
              "       [0, 1, 0, 1, 0, 1, 0, 1],\n",
              "       [1, 1, 1, 1, 1, 1, 1, 1],\n",
              "       [0, 1, 0, 1, 0, 1, 0, 1],\n",
              "       [1, 1, 1, 1, 1, 1, 1, 1]])"
            ]
          },
          "metadata": {},
          "execution_count": 10
        }
      ]
    },
    {
      "cell_type": "markdown",
      "source": [
        "20. Consider a (6,7,8) shape array, what is the index (x,y,z) of the 100th element"
      ],
      "metadata": {
        "id": "3l8t2EgpCkqK"
      }
    },
    {
      "cell_type": "code",
      "source": [
        "# 20. Consider a (6,7,8) shape array, what is the index (x,y,z) of the 100th element\n",
        "import numpy as np\n",
        "\n",
        "arr=np.random.rand(6,7,8)\n",
        "print(np.unravel_index(99,(6,7,8)))\n"
      ],
      "metadata": {
        "colab": {
          "base_uri": "https://localhost:8080/"
        },
        "id": "GwT24WppCoV6",
        "outputId": "88dec6c2-2784-4bfe-dcc9-80654cde7783"
      },
      "execution_count": null,
      "outputs": [
        {
          "output_type": "stream",
          "name": "stdout",
          "text": [
            "(1, 5, 3)\n"
          ]
        }
      ]
    },
    {
      "cell_type": "markdown",
      "source": [
        "21. Create a checkerboard 8x8 matrix using the tile function"
      ],
      "metadata": {
        "id": "6Iwa5WPYDRoz"
      }
    },
    {
      "cell_type": "code",
      "source": [
        "# 21. Create a checkerboard 8x8 matrix using the tile function\n",
        "import numpy as np\n",
        "\n",
        "pattern=np.array([0,1])\n",
        "print(f\"pattern:\\n {pattern}\\n\")\n",
        "print(np.tile(pattern, (5,5)))\n"
      ],
      "metadata": {
        "colab": {
          "base_uri": "https://localhost:8080/"
        },
        "id": "TEdpTJgXDTHE",
        "outputId": "db3ec258-21b9-4508-9369-75612c5c422e"
      },
      "execution_count": null,
      "outputs": [
        {
          "output_type": "stream",
          "name": "stdout",
          "text": [
            "pattern:\n",
            " [0 1]\n",
            "\n",
            "[[0 1 0 1 0 1 0 1 0 1]\n",
            " [0 1 0 1 0 1 0 1 0 1]\n",
            " [0 1 0 1 0 1 0 1 0 1]\n",
            " [0 1 0 1 0 1 0 1 0 1]\n",
            " [0 1 0 1 0 1 0 1 0 1]]\n"
          ]
        }
      ]
    },
    {
      "cell_type": "markdown",
      "source": [
        "22. Normalize a 5x5 random matrix"
      ],
      "metadata": {
        "id": "RfX2UDA9D-uM"
      }
    },
    {
      "cell_type": "code",
      "source": [
        "# 22. Normalize a 5x5 random matrix\n",
        "import numpy as np\n",
        "\n",
        "matrix=np.array([[1,2,3,4,5],\n",
        "            [1,2,3,4,5],\n",
        "            [1,2,3,4,5],\n",
        "            [1,2,3,4,5],\n",
        "            [1,2,3,4,5]])\n",
        "print(f\"{matrix}\\n\")\n",
        "matrix_normalized=(matrix-np.mean(matrix)/(np.std(matrix)))\n",
        "print(matrix_normalized)\n"
      ],
      "metadata": {
        "id": "R8VIvfGoEB6C",
        "colab": {
          "base_uri": "https://localhost:8080/"
        },
        "outputId": "5ccb333f-f0a3-406a-dfe4-7ae37051cf90"
      },
      "execution_count": null,
      "outputs": [
        {
          "output_type": "stream",
          "name": "stdout",
          "text": [
            "[[1 2 3 4 5]\n",
            " [1 2 3 4 5]\n",
            " [1 2 3 4 5]\n",
            " [1 2 3 4 5]\n",
            " [1 2 3 4 5]]\n",
            "\n",
            "[[-1.12132034 -0.12132034  0.87867966  1.87867966  2.87867966]\n",
            " [-1.12132034 -0.12132034  0.87867966  1.87867966  2.87867966]\n",
            " [-1.12132034 -0.12132034  0.87867966  1.87867966  2.87867966]\n",
            " [-1.12132034 -0.12132034  0.87867966  1.87867966  2.87867966]\n",
            " [-1.12132034 -0.12132034  0.87867966  1.87867966  2.87867966]]\n"
          ]
        }
      ]
    },
    {
      "cell_type": "markdown",
      "source": [
        "23. Create a custom dtype that describes a color as four unsigned bytes (RGBA)"
      ],
      "metadata": {
        "id": "B4XovX1_5Y8o"
      }
    },
    {
      "cell_type": "code",
      "source": [
        "# 23. Create a custom dtype that describes a color as four unsigned bytes (RGBA)\n",
        "\n",
        "import numpy as np\n",
        "# Define the custom dtype for RGBA colors\n",
        "dtype_rgba = np.dtype([\n",
        "                        ('R', np.uint8),\n",
        "                        ('G', np.uint8),\n",
        "                        ('B', np.uint8),\n",
        "                        ('A', np.uint8)])\n",
        "# Create a Numpy array of RGBA colors using the custom dtype\n",
        "colors = np.array([(255, 0, 0, 255), (0, 255, 0, 255), (0, 0, 255, 255)], dtype=dtype_rgba)\n",
        "print(colors)"
      ],
      "metadata": {
        "colab": {
          "base_uri": "https://localhost:8080/"
        },
        "id": "_zunYBKn5dGM",
        "outputId": "8d7900e1-140d-4ca7-aa0a-bfc5a098db89"
      },
      "execution_count": null,
      "outputs": [
        {
          "output_type": "stream",
          "name": "stdout",
          "text": [
            "[(255,   0,   0, 255) (  0, 255,   0, 255) (  0,   0, 255, 255)]\n"
          ]
        }
      ]
    },
    {
      "cell_type": "markdown",
      "source": [
        "24. Multiply a 5x3 matrix by a 3x2 matrix (real matrix product)"
      ],
      "metadata": {
        "id": "Lm2V9evZ6b7D"
      }
    },
    {
      "cell_type": "code",
      "source": [
        "# 24. Multiply a 5x3 matrix by a 3x2 matrix (real matrix product)\n",
        "\n",
        "import numpy as np\n",
        "\n",
        "Matrix1=np.arange(15).reshape(5,3)\n",
        "print(Matrix1)\n",
        "print()\n",
        "Matrix2=np.arange(6).reshape(3,2)\n",
        "print(Matrix2)\n",
        "print(\"\\ndot product matrix\")\n",
        "print(np.dot(Matrix1,Matrix2))\n"
      ],
      "metadata": {
        "colab": {
          "base_uri": "https://localhost:8080/"
        },
        "id": "s7zDFGs16dCb",
        "outputId": "b5b36417-caa4-4603-853a-491ad6b4461e"
      },
      "execution_count": null,
      "outputs": [
        {
          "output_type": "stream",
          "name": "stdout",
          "text": [
            "[[ 0  1  2]\n",
            " [ 3  4  5]\n",
            " [ 6  7  8]\n",
            " [ 9 10 11]\n",
            " [12 13 14]]\n",
            "\n",
            "[[0 1]\n",
            " [2 3]\n",
            " [4 5]]\n",
            "\n",
            "dot product matrix\n",
            "[[ 10  13]\n",
            " [ 28  40]\n",
            " [ 46  67]\n",
            " [ 64  94]\n",
            " [ 82 121]]\n"
          ]
        }
      ]
    },
    {
      "cell_type": "markdown",
      "source": [
        "25. Given a 1D array, negate all elements which are between 3 and 8, in place."
      ],
      "metadata": {
        "id": "Abw7fhLu778E"
      }
    },
    {
      "cell_type": "code",
      "source": [
        "# 25. Given a 1D array, negate all elements which are between 3 and 8, in place.\n",
        "\n",
        "import numpy as np\n",
        "\n",
        "arr = np.arange(11)\n",
        "print(arr)\n",
        "print(\"\\n\\nNegated array\")\n",
        "arr[(3 < arr) & (arr < 8)] *= -1\n",
        "print(arr)"
      ],
      "metadata": {
        "colab": {
          "base_uri": "https://localhost:8080/"
        },
        "id": "tOemzucX8Im9",
        "outputId": "7ddefb56-b82e-47b5-b346-71fb0f068246"
      },
      "execution_count": null,
      "outputs": [
        {
          "output_type": "stream",
          "name": "stdout",
          "text": [
            "[ 0  1  2  3  4  5  6  7  8  9 10]\n",
            "\n",
            "\n",
            "Negated array\n",
            "[ 0  1  2  3 -4 -5 -6 -7  8  9 10]\n"
          ]
        }
      ]
    },
    {
      "cell_type": "markdown",
      "source": [
        "26. What is the output of the following script?\n",
        "\n",
        "print(sum(range(5),-1))\n",
        "from numpy import *\n",
        "print(sum(range(5),-1))"
      ],
      "metadata": {
        "id": "cxedLDkj85Eg"
      }
    },
    {
      "cell_type": "code",
      "source": [
        "# 26. What is the output of the following script?\n",
        "import numpy as np\n",
        "\n",
        "print(sum(range(5),-1))\n",
        "from numpy import *\n",
        "print(sum(range(5),-1))"
      ],
      "metadata": {
        "colab": {
          "base_uri": "https://localhost:8080/"
        },
        "id": "WZjx5UJ08_Us",
        "outputId": "e9e830ab-f8d1-478b-b5b9-7b169129d264"
      },
      "execution_count": null,
      "outputs": [
        {
          "output_type": "stream",
          "name": "stdout",
          "text": [
            "9\n",
            "10\n"
          ]
        }
      ]
    },
    {
      "cell_type": "markdown",
      "source": [
        "27. Consider an integer vector Z, which of these expressions are legal?"
      ],
      "metadata": {
        "id": "7-C_CXjn9VQ5"
      }
    },
    {
      "cell_type": "code",
      "source": [
        "# 27. Consider an integer vector Z, which of these expressions are legal?\n",
        "import numpy as np\n",
        "'''\n",
        "Z**Z\n",
        "2 << Z >> 2\n",
        "Z <- Z\n",
        "1j*Z\n",
        "Z/1/1\n",
        "Z<Z>Z\n",
        "'''\n",
        "z=np.arange(10)\n",
        "print(z**z)\n",
        "print(2 << z >> 2)\n",
        "print(z <- z)\n",
        "print(1j*z)\n",
        "print(z/1/1)\n",
        "print(z<z>z)"
      ],
      "metadata": {
        "colab": {
          "base_uri": "https://localhost:8080/",
          "height": 280
        },
        "id": "-_PnBPKC9f_H",
        "outputId": "90c60d27-8c47-4833-f504-c37a9a721ae7"
      },
      "execution_count": null,
      "outputs": [
        {
          "output_type": "stream",
          "name": "stdout",
          "text": [
            "[        1         1         4        27       256      3125     46656\n",
            "    823543  16777216 387420489]\n",
            "[  0   1   2   4   8  16  32  64 128 256]\n",
            "[False False False False False False False False False False]\n",
            "[0.+0.j 0.+1.j 0.+2.j 0.+3.j 0.+4.j 0.+5.j 0.+6.j 0.+7.j 0.+8.j 0.+9.j]\n",
            "[0. 1. 2. 3. 4. 5. 6. 7. 8. 9.]\n"
          ]
        },
        {
          "output_type": "error",
          "ename": "ValueError",
          "evalue": "The truth value of an array with more than one element is ambiguous. Use a.any() or a.all()",
          "traceback": [
            "\u001b[0;31m---------------------------------------------------------------------------\u001b[0m",
            "\u001b[0;31mValueError\u001b[0m                                Traceback (most recent call last)",
            "\u001b[0;32m<ipython-input-30-2a25cef88b00>\u001b[0m in \u001b[0;36m<cell line: 17>\u001b[0;34m()\u001b[0m\n\u001b[1;32m     15\u001b[0m \u001b[0mprint\u001b[0m\u001b[0;34m(\u001b[0m\u001b[0;36m1j\u001b[0m\u001b[0;34m*\u001b[0m\u001b[0mz\u001b[0m\u001b[0;34m)\u001b[0m\u001b[0;34m\u001b[0m\u001b[0;34m\u001b[0m\u001b[0m\n\u001b[1;32m     16\u001b[0m \u001b[0mprint\u001b[0m\u001b[0;34m(\u001b[0m\u001b[0mz\u001b[0m\u001b[0;34m/\u001b[0m\u001b[0;36m1\u001b[0m\u001b[0;34m/\u001b[0m\u001b[0;36m1\u001b[0m\u001b[0;34m)\u001b[0m\u001b[0;34m\u001b[0m\u001b[0;34m\u001b[0m\u001b[0m\n\u001b[0;32m---> 17\u001b[0;31m \u001b[0mprint\u001b[0m\u001b[0;34m(\u001b[0m\u001b[0mz\u001b[0m\u001b[0;34m<\u001b[0m\u001b[0mz\u001b[0m\u001b[0;34m>\u001b[0m\u001b[0mz\u001b[0m\u001b[0;34m)\u001b[0m\u001b[0;34m\u001b[0m\u001b[0;34m\u001b[0m\u001b[0m\n\u001b[0m",
            "\u001b[0;31mValueError\u001b[0m: The truth value of an array with more than one element is ambiguous. Use a.any() or a.all()"
          ]
        }
      ]
    },
    {
      "cell_type": "markdown",
      "source": [
        "28. What are the result of the following expressions?\n",
        "np.array(0) / np.array(0)\n",
        "np.array(0) // np.array(0)\n",
        "np.array([np.nan]).astype(int).astype(float)"
      ],
      "metadata": {
        "id": "u6AZq0Kj-Lrc"
      }
    },
    {
      "cell_type": "code",
      "source": [
        "#28. What are the result of the following expressions?\n",
        "import numpy as np\n",
        "\n",
        "print(np.array(0) / np.array(0))\n",
        "print(np.array(0) // np.array(0))\n",
        "print(np.array([np.nan]).astype(int).astype(float))"
      ],
      "metadata": {
        "colab": {
          "base_uri": "https://localhost:8080/"
        },
        "id": "KPGsou1k-M3Z",
        "outputId": "796403b4-289e-4270-aee0-373da0a8c5e6"
      },
      "execution_count": null,
      "outputs": [
        {
          "output_type": "stream",
          "name": "stdout",
          "text": [
            "nan\n",
            "0\n",
            "[-9.22337204e+18]\n"
          ]
        },
        {
          "output_type": "stream",
          "name": "stderr",
          "text": [
            "<ipython-input-28-a5b53f05c5fd>:4: RuntimeWarning: invalid value encountered in divide\n",
            "  print(np.array(0) / np.array(0))\n",
            "<ipython-input-28-a5b53f05c5fd>:5: RuntimeWarning: divide by zero encountered in floor_divide\n",
            "  print(np.array(0) // np.array(0))\n",
            "<ipython-input-28-a5b53f05c5fd>:6: RuntimeWarning: invalid value encountered in cast\n",
            "  print(np.array([np.nan]).astype(int).astype(float))\n"
          ]
        }
      ]
    },
    {
      "cell_type": "markdown",
      "source": [
        "29. How to round away from zero a float array ?"
      ],
      "metadata": {
        "id": "VyED4YUl-jaB"
      }
    },
    {
      "cell_type": "code",
      "source": [
        "# 29. How to round away from zero a float array ?\n",
        "\n",
        "import numpy as np\n",
        "\n",
        "z = np.array([-5.5,2.3,1.4,-3.2,-5.3])\n",
        "print(z)\n",
        "#zz=np.copysign(np.ceil(np.abs(z)),z)\n",
        "#print(zz)\n",
        "z1=np.abs(z)\n",
        "print(z1)\n",
        "z2=np.floor(z1)\n",
        "print(z2)\n",
        "z3=np.copysign(z2,z)\n",
        "print(z3)"
      ],
      "metadata": {
        "colab": {
          "base_uri": "https://localhost:8080/"
        },
        "id": "SZt-Nq5_-m1H",
        "outputId": "9e41ecdd-2d11-402b-f030-fe05b65dcf89"
      },
      "execution_count": null,
      "outputs": [
        {
          "output_type": "stream",
          "name": "stdout",
          "text": [
            "[-5.5  2.3  1.4 -3.2 -5.3]\n",
            "[5.5 2.3 1.4 3.2 5.3]\n",
            "[5. 2. 1. 3. 5.]\n",
            "[-5.  2.  1. -3. -5.]\n"
          ]
        }
      ]
    },
    {
      "cell_type": "markdown",
      "source": [
        "30. How to find common values between two arrays?"
      ],
      "metadata": {
        "id": "9fU2tORl_P_F"
      }
    },
    {
      "cell_type": "code",
      "source": [
        "# 30. How to find common values between two arrays?\n",
        "import numpy as np\n",
        "\n",
        "arr1 = np.random.randint(0,10,10) #low=0, high=10, size=10\n",
        "print(arr1)\n",
        "arr2 = np.random.randint(0,10,10)\n",
        "print(arr2)\n",
        "print(\"\\n\\nCommon values\")\n",
        "print(np.intersect1d(arr1,arr2))"
      ],
      "metadata": {
        "colab": {
          "base_uri": "https://localhost:8080/"
        },
        "id": "Q2O6S7CV_TTq",
        "outputId": "cd32c2da-5844-4426-cffb-6b975b62ef59"
      },
      "execution_count": null,
      "outputs": [
        {
          "output_type": "stream",
          "name": "stdout",
          "text": [
            "[3 4 4 7 2 5 3 8 1 6]\n",
            "[9 6 4 5 1 8 2 0 4 2]\n",
            "\n",
            "\n",
            "Common values\n",
            "[1 2 4 5 6 8]\n"
          ]
        }
      ]
    }
  ]
}