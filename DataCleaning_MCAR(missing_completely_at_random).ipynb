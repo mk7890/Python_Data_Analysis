{
  "nbformat": 4,
  "nbformat_minor": 0,
  "metadata": {
    "colab": {
      "provenance": [],
      "include_colab_link": true
    },
    "kernelspec": {
      "name": "python3",
      "display_name": "Python 3"
    },
    "language_info": {
      "name": "python"
    }
  },
  "cells": [
    {
      "cell_type": "markdown",
      "metadata": {
        "id": "view-in-github",
        "colab_type": "text"
      },
      "source": [
        "<a href=\"https://colab.research.google.com/github/mk7890/Python_Data_Analysis/blob/main/DataCleaning_MCAR(missing_completely_at_random).ipynb\" target=\"_parent\"><img src=\"https://colab.research.google.com/assets/colab-badge.svg\" alt=\"Open In Colab\"/></a>"
      ]
    },
    {
      "cell_type": "markdown",
      "source": [
        "# Understanding Missing Completely at Random (MCAR) in Pandas\n",
        "- Data is considered Missing Completely At Random (MCAR) when the probability of a data point being missing is unrelated to any observed or unobserved data. In other words, the missingness is entirely random and does not follow any systematic pattern.\n",
        "\n",
        "## When Does MCAR Happen?\n",
        "\n",
        "- Accidental skips in survey responses.\n",
        "- Data entry errors where random values are left blank.\n",
        "- Technical issues where random entries fail to be recorded.\n",
        "\n",
        "## Example of MCAR\n",
        "Imagine a survey where respondents are asked to fill in their height and weight. If some people accidentally skip the height question purely due to oversight, this would result in missing data that's MCAR. The reason for the missing values is random and doesn’t depend on any other information in the dataset (like weight or age).\n",
        "\n",
        "\n"
      ],
      "metadata": {
        "id": "TU-_16XWjmV3"
      }
    },
    {
      "cell_type": "markdown",
      "source": [
        "## How to Detect MCAR in Pandas\n",
        "\n",
        "We can analyze patterns in the missing data. Below is an example of a DataFrame with random missing values.\n"
      ],
      "metadata": {
        "id": "SWD7ojIelzU7"
      }
    },
    {
      "cell_type": "code",
      "source": [
        "import pandas as pd\n",
        "import numpy as np\n",
        "\n",
        "# Sample data with random missing values\n",
        "data = {\n",
        "    'height': [5.9, np.nan, 5.5, 6.1, np.nan],\n",
        "    'weight': [72, 80, np.nan, 90, 85],\n",
        "    'age': [25, 30, 22, np.nan, 28]\n",
        "}\n",
        "df = pd.DataFrame(data)\n",
        "print(df)\n",
        "\n",
        "# Check the pattern of missing data\n",
        "missing_data = df.isnull().sum()\n",
        "missing_data\n"
      ],
      "metadata": {
        "colab": {
          "base_uri": "https://localhost:8080/",
          "height": 282
        },
        "id": "HqKjPtQfl8pl",
        "outputId": "7920b658-d974-4879-9587-8b77858f3258"
      },
      "execution_count": null,
      "outputs": [
        {
          "output_type": "stream",
          "name": "stdout",
          "text": [
            "   height  weight   age\n",
            "0     5.9    72.0  25.0\n",
            "1     NaN    80.0  30.0\n",
            "2     5.5     NaN  22.0\n",
            "3     6.1    90.0   NaN\n",
            "4     NaN    85.0  28.0\n"
          ]
        },
        {
          "output_type": "execute_result",
          "data": {
            "text/plain": [
              "height    2\n",
              "weight    1\n",
              "age       1\n",
              "dtype: int64"
            ],
            "text/html": [
              "<div>\n",
              "<style scoped>\n",
              "    .dataframe tbody tr th:only-of-type {\n",
              "        vertical-align: middle;\n",
              "    }\n",
              "\n",
              "    .dataframe tbody tr th {\n",
              "        vertical-align: top;\n",
              "    }\n",
              "\n",
              "    .dataframe thead th {\n",
              "        text-align: right;\n",
              "    }\n",
              "</style>\n",
              "<table border=\"1\" class=\"dataframe\">\n",
              "  <thead>\n",
              "    <tr style=\"text-align: right;\">\n",
              "      <th></th>\n",
              "      <th>0</th>\n",
              "    </tr>\n",
              "  </thead>\n",
              "  <tbody>\n",
              "    <tr>\n",
              "      <th>height</th>\n",
              "      <td>2</td>\n",
              "    </tr>\n",
              "    <tr>\n",
              "      <th>weight</th>\n",
              "      <td>1</td>\n",
              "    </tr>\n",
              "    <tr>\n",
              "      <th>age</th>\n",
              "      <td>1</td>\n",
              "    </tr>\n",
              "  </tbody>\n",
              "</table>\n",
              "</div><br><label><b>dtype:</b> int64</label>"
            ]
          },
          "metadata": {},
          "execution_count": 10
        }
      ]
    },
    {
      "cell_type": "markdown",
      "source": [
        "## How to Handle MCAR Data in Pandas\n",
        "\n",
        "### Option 1: Drop Missing Values\n",
        "\n",
        "If the missing data is MCAR and doesn’t constitute a large portion of your dataset, you can drop rows or columns with missing values.\n",
        "\n",
        "### Option 2: Fill Missing Values\n",
        "\n",
        "For continuous data, fill missing values with measures like the mean or median of the column.\n",
        "\n",
        "### Option 3: Interpolation\n",
        "\n",
        "Interpolation involves creating a function or model that fits a set of known data points and then using that function to estimate values for points that lie within the range of the known data.\n"
      ],
      "metadata": {
        "id": "d1IPRbdYmrwq"
      }
    },
    {
      "cell_type": "code",
      "source": [
        "# Option 1: Drop rows with any missing values\n",
        "df_dropped = df.dropna()\n",
        "\n",
        "# Option 2: Fill missing values with the mean of each column\n",
        "df_filled = df.fillna(df.mean())\n",
        "\n",
        "# Option 3: Use linear interpolation to fill missing values\n",
        "df_interpolated = df.interpolate()\n",
        "\n",
        "# Display results\n",
        "print(\"Dropping data:\\n\", df_dropped, \"\\n\")\n",
        "print(\"Filling data:\\n\", df_filled, \"\\n\")\n",
        "print(\"Interpolating:\\n\", df_interpolated)\n"
      ],
      "metadata": {
        "colab": {
          "base_uri": "https://localhost:8080/"
        },
        "id": "aahW7JqMm7ub",
        "outputId": "4a045904-99ee-4313-f7d9-696fa631b147"
      },
      "execution_count": null,
      "outputs": [
        {
          "output_type": "stream",
          "name": "stdout",
          "text": [
            "Dropping data:\n",
            "    height  weight   age\n",
            "0     5.9    72.0  25.0 \n",
            "\n",
            "Filling data:\n",
            "      height  weight    age\n",
            "0  5.900000   72.00  25.00\n",
            "1  5.833333   80.00  30.00\n",
            "2  5.500000   81.75  22.00\n",
            "3  6.100000   90.00  26.25\n",
            "4  5.833333   85.00  28.00 \n",
            "\n",
            "Interpolating:\n",
            "    height  weight   age\n",
            "0     5.9    72.0  25.0\n",
            "1     5.7    80.0  30.0\n",
            "2     5.5    85.0  22.0\n",
            "3     6.1    90.0  25.0\n",
            "4     6.1    85.0  28.0\n"
          ]
        }
      ]
    },
    {
      "cell_type": "code",
      "source": [],
      "metadata": {
        "id": "eoXszAgtmhTL"
      },
      "execution_count": null,
      "outputs": []
    }
  ]
}