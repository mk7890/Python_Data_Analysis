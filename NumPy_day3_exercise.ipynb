{
  "nbformat": 4,
  "nbformat_minor": 0,
  "metadata": {
    "colab": {
      "provenance": [],
      "include_colab_link": true
    },
    "kernelspec": {
      "name": "python3",
      "display_name": "Python 3"
    },
    "language_info": {
      "name": "python"
    }
  },
  "cells": [
    {
      "cell_type": "markdown",
      "metadata": {
        "id": "view-in-github",
        "colab_type": "text"
      },
      "source": [
        "<a href=\"https://colab.research.google.com/github/mk7890/Python_Data_Analysis/blob/main/NumPy_day3_exercise.ipynb\" target=\"_parent\"><img src=\"https://colab.research.google.com/assets/colab-badge.svg\" alt=\"Open In Colab\"/></a>"
      ]
    },
    {
      "cell_type": "code",
      "execution_count": null,
      "metadata": {
        "id": "F4UhVLO7EItY"
      },
      "outputs": [],
      "source": []
    },
    {
      "cell_type": "markdown",
      "source": [
        "31. How to ignore all numpy warnings (not recommended)?"
      ],
      "metadata": {
        "id": "nqweUkDuENNJ"
      }
    },
    {
      "cell_type": "code",
      "source": [
        "# 31. How to ignore all numpy warnings (not recommended)?\n",
        "import numpy as np\n"
      ],
      "metadata": {
        "id": "HmFKQPs4EO5F"
      },
      "execution_count": null,
      "outputs": []
    },
    {
      "cell_type": "markdown",
      "source": [
        "32. Is the following expressions true?"
      ],
      "metadata": {
        "id": "UjTxLvq2FGB3"
      }
    },
    {
      "cell_type": "code",
      "source": [
        "# 32. Is the following expressions true?\n",
        "import numpy as np\n",
        "np.sqrt(-1) == np.emath.sqrt(-1)"
      ],
      "metadata": {
        "colab": {
          "base_uri": "https://localhost:8080/"
        },
        "id": "o6sbHvdcFG-I",
        "outputId": "1d682c70-c9f9-41b5-b6a6-23710c0c018a"
      },
      "execution_count": null,
      "outputs": [
        {
          "output_type": "stream",
          "name": "stderr",
          "text": [
            "<ipython-input-2-b71759f88047>:3: RuntimeWarning: invalid value encountered in sqrt\n",
            "  np.sqrt(-1) == np.emath.sqrt(-1)\n"
          ]
        },
        {
          "output_type": "execute_result",
          "data": {
            "text/plain": [
              "False"
            ]
          },
          "metadata": {},
          "execution_count": 2
        }
      ]
    },
    {
      "cell_type": "markdown",
      "source": [
        "33. How to get the dates of yesterday, today and tomorrow?"
      ],
      "metadata": {
        "id": "Obh4NXZPFcx-"
      }
    },
    {
      "cell_type": "code",
      "source": [
        "# 33. How to get the dates of yesterday, today and tomorrow?\n",
        "import numpy as np\n",
        "print(np.datetime64('today'))\n",
        "print(np.datetime64('today') - np.timedelta64(1))\n",
        "print(np.datetime64('today') + np.timedelta64(1))"
      ],
      "metadata": {
        "colab": {
          "base_uri": "https://localhost:8080/"
        },
        "id": "JO1HlAYeFggS",
        "outputId": "7f860389-f21b-4352-d79c-0b609c584214"
      },
      "execution_count": null,
      "outputs": [
        {
          "output_type": "stream",
          "name": "stdout",
          "text": [
            "2024-10-31\n",
            "2024-10-30\n",
            "2024-11-01\n"
          ]
        }
      ]
    },
    {
      "cell_type": "markdown",
      "source": [
        "34. How to get all the dates corresponding to the month of July 2016?"
      ],
      "metadata": {
        "id": "Wbo8K3fcF5c9"
      }
    },
    {
      "cell_type": "code",
      "source": [
        "# 34. How to get all the dates corresponding to the month of July 2016?\n",
        "import numpy as np\n",
        "dates = np.arange('2016-07', '2016-08', dtype='datetime64[D]')\n",
        "print(dates)"
      ],
      "metadata": {
        "colab": {
          "base_uri": "https://localhost:8080/"
        },
        "id": "xJeJsnmdF6KI",
        "outputId": "b75e0181-8ba8-4e71-e6a9-eb4c93ef46ff"
      },
      "execution_count": null,
      "outputs": [
        {
          "output_type": "stream",
          "name": "stdout",
          "text": [
            "['2016-07-01' '2016-07-02' '2016-07-03' '2016-07-04' '2016-07-05'\n",
            " '2016-07-06' '2016-07-07' '2016-07-08' '2016-07-09' '2016-07-10'\n",
            " '2016-07-11' '2016-07-12' '2016-07-13' '2016-07-14' '2016-07-15'\n",
            " '2016-07-16' '2016-07-17' '2016-07-18' '2016-07-19' '2016-07-20'\n",
            " '2016-07-21' '2016-07-22' '2016-07-23' '2016-07-24' '2016-07-25'\n",
            " '2016-07-26' '2016-07-27' '2016-07-28' '2016-07-29' '2016-07-30'\n",
            " '2016-07-31']\n"
          ]
        }
      ]
    },
    {
      "cell_type": "markdown",
      "source": [
        "35. How to compute ((A+B)*(-A/2)) in place (without copy)?"
      ],
      "metadata": {
        "id": "M57VraHzGPbK"
      }
    },
    {
      "cell_type": "code",
      "source": [
        "# 35. How to compute ((A+B)*(-A/2)) in place (without copy)?\n",
        "import numpy as np\n",
        "A = -10\n",
        "B = 20\n",
        "answer = ((A+B)*(-A/2))\n",
        "print(answer)\n",
        "\n",
        "B = np.add(A,B)\n",
        "A = np.divide(A,2)\n",
        "A = np.negative(A)\n",
        "A = np.multiply(A,B)\n",
        "print(A)"
      ],
      "metadata": {
        "colab": {
          "base_uri": "https://localhost:8080/"
        },
        "id": "8mayadaXGQT1",
        "outputId": "3e6ac965-c81d-45c9-f1bc-8428090f74ce"
      },
      "execution_count": null,
      "outputs": [
        {
          "output_type": "stream",
          "name": "stdout",
          "text": [
            "50.0\n",
            "50.0\n"
          ]
        }
      ]
    },
    {
      "cell_type": "markdown",
      "source": [
        "36. Extract the integer part of a random array of positive numbers using 4 different methods"
      ],
      "metadata": {
        "id": "qYnedvgHGzJ0"
      }
    },
    {
      "cell_type": "code",
      "source": [
        "# 36. Extract the integer part of a random array of positive numbers using 4 different methods\n",
        "import numpy as np\n",
        "z = np.random.randint(0,10,20)\n",
        "print(z)\n"
      ],
      "metadata": {
        "colab": {
          "base_uri": "https://localhost:8080/"
        },
        "id": "r0JissLpG0DI",
        "outputId": "dc2ef12e-eb9d-4833-ceee-7c33ce869306"
      },
      "execution_count": null,
      "outputs": [
        {
          "output_type": "stream",
          "name": "stdout",
          "text": [
            "[4 0 8 2 5 0 3 1 8 1 6 7 0 8 2 3 3 3 9 3]\n",
            "[4 0 8 2 5 0 3 1 8 1 6 7 0 8 2 3 3 3 9 3]\n",
            "[4 0 8 2 5 0 3 1 8 1 6 7 0 8 2 3 3 3 9 3]\n",
            "[4 0 8 2 5 0 3 1 8 1 6 7 0 8 2 3 3 3 9 3]\n",
            "[4. 0. 8. 2. 5. 0. 3. 1. 8. 1. 6. 7. 0. 8. 2. 3. 3. 3. 9. 3.]\n"
          ]
        }
      ]
    },
    {
      "cell_type": "markdown",
      "source": [
        "37. Create a 5x5 matrix with row values ranging from 0 to 4"
      ],
      "metadata": {
        "id": "OkH8WKeHHxUL"
      }
    },
    {
      "cell_type": "code",
      "source": [
        "# 37. Create a 5x5 matrix with row values ranging from 0 to 4\n",
        "import numpy as np\n",
        "matrix = np.random.randint(0,4,25).reshape(5,5)\n",
        "print(matrix)\n"
      ],
      "metadata": {
        "colab": {
          "base_uri": "https://localhost:8080/"
        },
        "id": "Lxj_oNN_H1cb",
        "outputId": "41be2709-8c99-4c9e-c43b-2f0628f7295c"
      },
      "execution_count": null,
      "outputs": [
        {
          "output_type": "stream",
          "name": "stdout",
          "text": [
            "[[2 0 3 1 1]\n",
            " [2 2 0 3 1]\n",
            " [0 0 0 1 0]\n",
            " [0 2 2 3 2]\n",
            " [1 1 1 1 3]]\n"
          ]
        }
      ]
    },
    {
      "cell_type": "markdown",
      "source": [
        "38. Consider a generator function that generates 10 integers and use it to build an array"
      ],
      "metadata": {
        "id": "NdBg7Q5JIPyc"
      }
    },
    {
      "cell_type": "code",
      "source": [
        "# 38. Consider a generator function that generates 10 integers and use it to build an array\n",
        "import numpy as np\n",
        "def generate1():\n",
        "    return np.random.randint(0,10,10)\n",
        "arr = np.array(generate1())\n",
        "\n",
        "print(arr)"
      ],
      "metadata": {
        "colab": {
          "base_uri": "https://localhost:8080/"
        },
        "id": "I7sN5Vf9IQkY",
        "outputId": "4b864d15-f392-4774-c0b9-48b42fd52f39"
      },
      "execution_count": null,
      "outputs": [
        {
          "output_type": "stream",
          "name": "stdout",
          "text": [
            "[6 9 7 3 0 4 2 1 8 4]\n"
          ]
        }
      ]
    },
    {
      "cell_type": "markdown",
      "source": [
        "39. Create a vector of size 10 with values ranging from 0 to 1, both excluded"
      ],
      "metadata": {
        "id": "5O6an0BaIyH9"
      }
    },
    {
      "cell_type": "code",
      "source": [
        "# 39. Create a vector of size 10 with values ranging from 0 to 1, both excluded\n",
        "import numpy as np\n",
        "Z = np.linspace(0,1,11,endpoint=False)\n",
        "print(Z)"
      ],
      "metadata": {
        "colab": {
          "base_uri": "https://localhost:8080/"
        },
        "id": "htVks4HOIzTH",
        "outputId": "145ab493-bbf1-442e-80eb-a258534ecba0"
      },
      "execution_count": null,
      "outputs": [
        {
          "output_type": "stream",
          "name": "stdout",
          "text": [
            "[0.         0.09090909 0.18181818 0.27272727 0.36363636 0.45454545\n",
            " 0.54545455 0.63636364 0.72727273 0.81818182 0.90909091]\n"
          ]
        }
      ]
    },
    {
      "cell_type": "markdown",
      "source": [
        "40. Create a random vector of size 10 and sort it"
      ],
      "metadata": {
        "id": "A821-O05JUz9"
      }
    },
    {
      "cell_type": "code",
      "source": [
        "# 40. Create a random vector of size 10 and sort it\n",
        "import numpy as np\n",
        "z = np.random.uniform(10,50,10)\n",
        "print(z.astype(int))\n",
        "z.sort()\n",
        "print(z.astype(int))"
      ],
      "metadata": {
        "colab": {
          "base_uri": "https://localhost:8080/"
        },
        "id": "c-PcrJ0FJVcT",
        "outputId": "4988e572-cb82-4adf-e444-34812d58ce04"
      },
      "execution_count": null,
      "outputs": [
        {
          "output_type": "stream",
          "name": "stdout",
          "text": [
            "[28 25 15 20 26 40 26 15 22 15]\n",
            "[15 15 15 20 22 25 26 26 28 40]\n"
          ]
        }
      ]
    },
    {
      "cell_type": "markdown",
      "source": [
        "41. How to sum a small array faster than np.sum?"
      ],
      "metadata": {
        "id": "zTSttdOuJ1LN"
      }
    },
    {
      "cell_type": "code",
      "source": [
        "# 41. How to sum a small array faster than np.sum?\n",
        "import numpy as np\n",
        "z = np.arange(10)\n",
        "np.add.reduce(z)"
      ],
      "metadata": {
        "colab": {
          "base_uri": "https://localhost:8080/"
        },
        "id": "VPAqhftBJ2Kw",
        "outputId": "f389533f-0e6b-49de-960a-e260c9acde9f"
      },
      "execution_count": null,
      "outputs": [
        {
          "output_type": "execute_result",
          "data": {
            "text/plain": [
              "45"
            ]
          },
          "metadata": {},
          "execution_count": 22
        }
      ]
    },
    {
      "cell_type": "markdown",
      "source": [
        "42. Consider two random array A and B, check if they are equal"
      ],
      "metadata": {
        "id": "-DaV-5dSKAq0"
      }
    },
    {
      "cell_type": "code",
      "source": [
        "# 42. Consider two random array A and B, check if they are equal\n",
        "import numpy as np\n",
        "A = np.array([5,2,4,6,4,5,5])\n",
        "B = np.array([5,2,9,7,6,4,6])\n",
        "\n",
        "equal = np.array_equal(A,B)\n",
        "print(equal)"
      ],
      "metadata": {
        "colab": {
          "base_uri": "https://localhost:8080/"
        },
        "id": "LdWvzZoLKBqD",
        "outputId": "b7aa6b70-384e-49f7-b4a7-9bd6c25f1739"
      },
      "execution_count": null,
      "outputs": [
        {
          "output_type": "stream",
          "name": "stdout",
          "text": [
            "False\n"
          ]
        }
      ]
    },
    {
      "cell_type": "markdown",
      "source": [
        "43. Make an array immutable (read-only)"
      ],
      "metadata": {
        "id": "EW5bPPFlKQiX"
      }
    },
    {
      "cell_type": "code",
      "source": [
        "# 43. Make an array immutable (read-only)\n",
        "import numpy as np\n",
        "Z = np.arange(10)\n",
        "Z.flags.writeable = False\n",
        "Z[2]=9\n",
        "z"
      ],
      "metadata": {
        "colab": {
          "base_uri": "https://localhost:8080/",
          "height": 193
        },
        "id": "_vdumpl2KRM0",
        "outputId": "b099c692-8681-4ed9-df8e-bc9ccc0b43c9"
      },
      "execution_count": null,
      "outputs": [
        {
          "output_type": "error",
          "ename": "ValueError",
          "evalue": "assignment destination is read-only",
          "traceback": [
            "\u001b[0;31m---------------------------------------------------------------------------\u001b[0m",
            "\u001b[0;31mValueError\u001b[0m                                Traceback (most recent call last)",
            "\u001b[0;32m<ipython-input-27-7f3613785953>\u001b[0m in \u001b[0;36m<cell line: 5>\u001b[0;34m()\u001b[0m\n\u001b[1;32m      3\u001b[0m \u001b[0mZ\u001b[0m \u001b[0;34m=\u001b[0m \u001b[0mnp\u001b[0m\u001b[0;34m.\u001b[0m\u001b[0marange\u001b[0m\u001b[0;34m(\u001b[0m\u001b[0;36m10\u001b[0m\u001b[0;34m)\u001b[0m\u001b[0;34m\u001b[0m\u001b[0;34m\u001b[0m\u001b[0m\n\u001b[1;32m      4\u001b[0m \u001b[0mZ\u001b[0m\u001b[0;34m.\u001b[0m\u001b[0mflags\u001b[0m\u001b[0;34m.\u001b[0m\u001b[0mwriteable\u001b[0m \u001b[0;34m=\u001b[0m \u001b[0;32mFalse\u001b[0m\u001b[0;34m\u001b[0m\u001b[0;34m\u001b[0m\u001b[0m\n\u001b[0;32m----> 5\u001b[0;31m \u001b[0mZ\u001b[0m\u001b[0;34m[\u001b[0m\u001b[0;36m2\u001b[0m\u001b[0;34m]\u001b[0m\u001b[0;34m=\u001b[0m\u001b[0;36m9\u001b[0m\u001b[0;34m\u001b[0m\u001b[0;34m\u001b[0m\u001b[0m\n\u001b[0m\u001b[1;32m      6\u001b[0m \u001b[0mz\u001b[0m\u001b[0;34m\u001b[0m\u001b[0;34m\u001b[0m\u001b[0m\n",
            "\u001b[0;31mValueError\u001b[0m: assignment destination is read-only"
          ]
        }
      ]
    },
    {
      "cell_type": "markdown",
      "source": [
        "44. Consider a random 10x2 matrix representing cartesian coordinates, convert them to polar coordinates"
      ],
      "metadata": {
        "id": "DF02yGo0MNLU"
      }
    },
    {
      "cell_type": "code",
      "source": [
        "# 44. Consider a random 10x2 matrix representing cartesian coordinates, convert them to polar coordinates\n",
        "import numpy as np\n",
        "matrix = np.random.randint((1,20,20))\n",
        "matrix"
      ],
      "metadata": {
        "colab": {
          "base_uri": "https://localhost:8080/"
        },
        "id": "EnExOeEJMOyW",
        "outputId": "6cb72dcd-3f65-49ad-c284-89dcfb97e43a"
      },
      "execution_count": null,
      "outputs": [
        {
          "output_type": "execute_result",
          "data": {
            "text/plain": [
              "array([ 0, 18, 15])"
            ]
          },
          "metadata": {},
          "execution_count": 32
        }
      ]
    },
    {
      "cell_type": "markdown",
      "source": [
        "45. Create random vector of size 10 and replace the maximum value by 0"
      ],
      "metadata": {
        "id": "DtKWjkVkO43a"
      }
    },
    {
      "cell_type": "code",
      "source": [
        "# 45. Create random vector of size 10 and replace the maximum value by 0\n",
        "import numpy as np\n",
        "vector = np.arange(1,11,1)\n",
        "vector\n",
        "vector[10] = 0\n",
        "vector"
      ],
      "metadata": {
        "colab": {
          "base_uri": "https://localhost:8080/",
          "height": 193
        },
        "id": "OolFvWaaO5x2",
        "outputId": "2a126cb2-5130-4fc2-9faa-e9250633364b"
      },
      "execution_count": null,
      "outputs": [
        {
          "output_type": "error",
          "ename": "IndexError",
          "evalue": "index 10 is out of bounds for axis 0 with size 10",
          "traceback": [
            "\u001b[0;31m---------------------------------------------------------------------------\u001b[0m",
            "\u001b[0;31mIndexError\u001b[0m                                Traceback (most recent call last)",
            "\u001b[0;32m<ipython-input-38-631058bcca50>\u001b[0m in \u001b[0;36m<cell line: 5>\u001b[0;34m()\u001b[0m\n\u001b[1;32m      3\u001b[0m \u001b[0mvector\u001b[0m \u001b[0;34m=\u001b[0m \u001b[0mnp\u001b[0m\u001b[0;34m.\u001b[0m\u001b[0marange\u001b[0m\u001b[0;34m(\u001b[0m\u001b[0;36m1\u001b[0m\u001b[0;34m,\u001b[0m\u001b[0;36m11\u001b[0m\u001b[0;34m,\u001b[0m\u001b[0;36m1\u001b[0m\u001b[0;34m)\u001b[0m\u001b[0;34m\u001b[0m\u001b[0;34m\u001b[0m\u001b[0m\n\u001b[1;32m      4\u001b[0m \u001b[0mvector\u001b[0m\u001b[0;34m\u001b[0m\u001b[0;34m\u001b[0m\u001b[0m\n\u001b[0;32m----> 5\u001b[0;31m \u001b[0mvector\u001b[0m\u001b[0;34m[\u001b[0m\u001b[0;36m10\u001b[0m\u001b[0;34m]\u001b[0m \u001b[0;34m=\u001b[0m \u001b[0;36m0\u001b[0m\u001b[0;34m\u001b[0m\u001b[0;34m\u001b[0m\u001b[0m\n\u001b[0m\u001b[1;32m      6\u001b[0m \u001b[0mvector\u001b[0m\u001b[0;34m\u001b[0m\u001b[0;34m\u001b[0m\u001b[0m\n",
            "\u001b[0;31mIndexError\u001b[0m: index 10 is out of bounds for axis 0 with size 10"
          ]
        }
      ]
    }
  ]
}