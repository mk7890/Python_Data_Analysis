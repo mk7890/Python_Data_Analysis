{
  "cells": [
    {
      "cell_type": "markdown",
      "metadata": {
        "id": "view-in-github",
        "colab_type": "text"
      },
      "source": [
        "<a href=\"https://colab.research.google.com/github/mk7890/Python_Data_Analysis/blob/main/NumPy_day1_exercise.ipynb\" target=\"_parent\"><img src=\"https://colab.research.google.com/assets/colab-badge.svg\" alt=\"Open In Colab\"/></a>"
      ]
    },
    {
      "cell_type": "code",
      "execution_count": null,
      "metadata": {
        "id": "Z3JV7Mhxlzb8"
      },
      "outputs": [],
      "source": [
        "# Import the numpy package under the name np\n",
        "\n",
        "import numpy as np"
      ]
    },
    {
      "cell_type": "code",
      "execution_count": null,
      "metadata": {
        "colab": {
          "base_uri": "https://localhost:8080/",
          "height": 35
        },
        "id": "dUNkY3CEmnud",
        "outputId": "6722b288-4c3c-4332-832a-bd448d1a6ef8"
      },
      "outputs": [
        {
          "data": {
            "application/vnd.google.colaboratory.intrinsic+json": {
              "type": "string"
            },
            "text/plain": [
              "'1.26.4'"
            ]
          },
          "execution_count": 3,
          "metadata": {},
          "output_type": "execute_result"
        }
      ],
      "source": [
        "# Print the numpy version and the configuration\n",
        "\n",
        "import numpy as np\n",
        "np.__version__"
      ]
    },
    {
      "cell_type": "code",
      "execution_count": null,
      "metadata": {
        "colab": {
          "base_uri": "https://localhost:8080/"
        },
        "id": "TSPqZDyInIJY",
        "outputId": "39dd15f3-95ba-4d1a-9c34-8e95a52b31f0"
      },
      "outputs": [
        {
          "name": "stdout",
          "output_type": "stream",
          "text": [
            "[0. 0. 0. 0. 0. 0. 0. 0. 0. 0.]\n"
          ]
        }
      ],
      "source": [
        "# Create a null vector of size 10\n",
        "import numpy as np\n",
        "myVector = np.zeros(10)\n",
        "print(myVector)"
      ]
    },
    {
      "cell_type": "code",
      "execution_count": null,
      "metadata": {
        "colab": {
          "base_uri": "https://localhost:8080/"
        },
        "id": "PAVzYp3Twrby",
        "outputId": "1567cab6-1b36-4fb0-dc7e-b49e114e6708"
      },
      "outputs": [
        {
          "name": "stdout",
          "output_type": "stream",
          "text": [
            "Array size : 9\n",
            "Array Memory Size : 8\n"
          ]
        }
      ],
      "source": [
        "#How to find the memory size of any array\n",
        "import numpy as np\n",
        "arr = np.array([10,20,30,40,50,60,70,80,90])\n",
        "print(f\"Array size : {arr.size}\") #prints the size of the array\n",
        "print(f\"Array Memory Size : {arr.itemsize}\") #prints the memory size of the array\n",
        "\n"
      ]
    },
    {
      "cell_type": "code",
      "execution_count": null,
      "metadata": {
        "colab": {
          "base_uri": "https://localhost:8080/"
        },
        "id": "jKZuHNtfxvLq",
        "outputId": "6b5f055c-dd0d-440f-9d3f-c79f3013984d"
      },
      "outputs": [
        {
          "name": "stdout",
          "output_type": "stream",
          "text": [
            "Help on ufunc:\n",
            "\n",
            "add = <ufunc 'add'>\n",
            "    add(x1, x2, /, out=None, *, where=True, casting='same_kind', order='K', dtype=None, subok=True[, signature, extobj])\n",
            "    \n",
            "    Add arguments element-wise.\n",
            "    \n",
            "    Parameters\n",
            "    ----------\n",
            "    x1, x2 : array_like\n",
            "        The arrays to be added.\n",
            "        If ``x1.shape != x2.shape``, they must be broadcastable to a common\n",
            "        shape (which becomes the shape of the output).\n",
            "    out : ndarray, None, or tuple of ndarray and None, optional\n",
            "        A location into which the result is stored. If provided, it must have\n",
            "        a shape that the inputs broadcast to. If not provided or None,\n",
            "        a freshly-allocated array is returned. A tuple (possible only as a\n",
            "        keyword argument) must have length equal to the number of outputs.\n",
            "    where : array_like, optional\n",
            "        This condition is broadcast over the input. At locations where the\n",
            "        condition is True, the `out` array will be set to the ufunc result.\n",
            "        Elsewhere, the `out` array will retain its original value.\n",
            "        Note that if an uninitialized `out` array is created via the default\n",
            "        ``out=None``, locations within it where the condition is False will\n",
            "        remain uninitialized.\n",
            "    **kwargs\n",
            "        For other keyword-only arguments, see the\n",
            "        :ref:`ufunc docs <ufuncs.kwargs>`.\n",
            "    \n",
            "    Returns\n",
            "    -------\n",
            "    add : ndarray or scalar\n",
            "        The sum of `x1` and `x2`, element-wise.\n",
            "        This is a scalar if both `x1` and `x2` are scalars.\n",
            "    \n",
            "    Notes\n",
            "    -----\n",
            "    Equivalent to `x1` + `x2` in terms of array broadcasting.\n",
            "    \n",
            "    Examples\n",
            "    --------\n",
            "    >>> np.add(1.0, 4.0)\n",
            "    5.0\n",
            "    >>> x1 = np.arange(9.0).reshape((3, 3))\n",
            "    >>> x2 = np.arange(3.0)\n",
            "    >>> np.add(x1, x2)\n",
            "    array([[  0.,   2.,   4.],\n",
            "           [  3.,   5.,   7.],\n",
            "           [  6.,   8.,  10.]])\n",
            "    \n",
            "    The ``+`` operator can be used as a shorthand for ``np.add`` on ndarrays.\n",
            "    \n",
            "    >>> x1 = np.arange(9.0).reshape((3, 3))\n",
            "    >>> x2 = np.arange(3.0)\n",
            "    >>> x1 + x2\n",
            "    array([[ 0.,  2.,  4.],\n",
            "           [ 3.,  5.,  7.],\n",
            "           [ 6.,  8., 10.]])\n",
            "\n"
          ]
        }
      ],
      "source": [
        "# How to get the documentation of the numpy add function from the command line\n",
        "import numpy as np\n",
        "help(np.add)"
      ]
    },
    {
      "cell_type": "code",
      "execution_count": null,
      "metadata": {
        "colab": {
          "base_uri": "https://localhost:8080/"
        },
        "id": "TTjeekWryE9F",
        "outputId": "8d34d010-5c5b-46af-88d9-c071fc519b2a"
      },
      "outputs": [
        {
          "name": "stdout",
          "output_type": "stream",
          "text": [
            "[0. 0. 0. 0. 1. 0. 0. 0. 0. 0.]\n"
          ]
        }
      ],
      "source": [
        "from re import X\n",
        "# Create a null vector of size 10 but the fifth value which is 1\n",
        "import numpy as np\n",
        "X = np.zeros(10)\n",
        "x[4] = 1\n",
        "print(arr)"
      ]
    },
    {
      "cell_type": "code",
      "execution_count": null,
      "metadata": {
        "colab": {
          "base_uri": "https://localhost:8080/"
        },
        "id": "Ze9nQAa4y0Lm",
        "outputId": "598ef5f0-aebe-41a8-c73b-5ba14e37375d"
      },
      "outputs": [
        {
          "name": "stdout",
          "output_type": "stream",
          "text": [
            "[10 11 12 13 14 15 16 17 18 19 20 21 22 23 24 25 26 27 28 29 30 31 32 33\n",
            " 34 35 36 37 38 39 40 41 42 43 44 45 46 47 48 49]\n"
          ]
        }
      ],
      "source": [
        "# Create a vector with values ranging from 10 to 49\n",
        "import numpy as np\n",
        "x=np.arange(10,50)\n",
        "print(x)"
      ]
    },
    {
      "cell_type": "code",
      "execution_count": null,
      "metadata": {
        "colab": {
          "base_uri": "https://localhost:8080/"
        },
        "id": "gSsdUpSkzgww",
        "outputId": "843eabaf-d8c9-4252-f594-73e0d113b420"
      },
      "outputs": [
        {
          "name": "stdout",
          "output_type": "stream",
          "text": [
            "[50, 40, 30, 20, 10]\n"
          ]
        }
      ],
      "source": [
        "# Reverse a vector (first element becomes last)\n",
        "\n",
        "import numpy as np\n",
        "import array\n",
        "x=[10,20,30,40,50]\n",
        "x.reverse()\n",
        "print(x)"
      ]
    },
    {
      "cell_type": "code",
      "execution_count": null,
      "metadata": {
        "colab": {
          "base_uri": "https://localhost:8080/"
        },
        "id": "8Iia5hy_1101",
        "outputId": "5bddaabe-3449-4860-bd81-33b9b9d12b21"
      },
      "outputs": [
        {
          "name": "stdout",
          "output_type": "stream",
          "text": [
            "[[0 1 2]\n",
            " [3 4 5]\n",
            " [6 7 8]]\n"
          ]
        }
      ],
      "source": [
        "# Create a 3x3 matrix with values ranging from 0 to 8\n",
        "import numpy as np\n",
        "myMatrix = np.arange(0,9).reshape(3,3)\n",
        "\n",
        "print(myMatrix)"
      ]
    },
    {
      "cell_type": "code",
      "execution_count": null,
      "metadata": {
        "colab": {
          "base_uri": "https://localhost:8080/"
        },
        "id": "sGPDn0eL3rre",
        "outputId": "64849ae5-4428-415c-95a0-6412461e23e7"
      },
      "outputs": [
        {
          "name": "stdout",
          "output_type": "stream",
          "text": [
            "(array([0, 1, 4]),)\n"
          ]
        }
      ],
      "source": [
        "# Find indices of non-zero elements from [1,2,0,0,4,0]\n",
        "import numpy as np\n",
        "arr = np.array([1,2,0,0,4,0])\n",
        "\n",
        "print(np.nonzero(arr))\n"
      ]
    },
    {
      "cell_type": "code",
      "execution_count": null,
      "metadata": {
        "colab": {
          "base_uri": "https://localhost:8080/"
        },
        "id": "GQpBjbMn4oMv",
        "outputId": "79487bf4-bfdc-4581-9f44-420fcbb2afc0"
      },
      "outputs": [
        {
          "name": "stdout",
          "output_type": "stream",
          "text": [
            "[[1. 0. 0.]\n",
            " [0. 1. 0.]\n",
            " [0. 0. 1.]]\n"
          ]
        }
      ],
      "source": [
        "# Create a 3x3 identity matrix\n",
        "import numpy as np\n",
        "arr = np.identity(3)\n",
        "print(arr)"
      ]
    },
    {
      "cell_type": "code",
      "execution_count": null,
      "metadata": {
        "colab": {
          "base_uri": "https://localhost:8080/"
        },
        "id": "tmAxKYKX5D86",
        "outputId": "cd0a945b-9352-4e2a-e911-de092f16fcf3"
      },
      "outputs": [
        {
          "name": "stdout",
          "output_type": "stream",
          "text": [
            "[[[8 3 2]\n",
            "  [5 8 2]\n",
            "  [7 8 8]]\n",
            "\n",
            " [[5 0 9]\n",
            "  [0 3 9]\n",
            "  [3 6 9]]\n",
            "\n",
            " [[4 7 8]\n",
            "  [7 4 5]\n",
            "  [1 7 6]]]\n"
          ]
        }
      ],
      "source": [
        "# Create a 3x3x3 array with random values\n",
        "import numpy as np\n",
        "import random\n",
        "arr = np.random.randint(0, 10, (3,3,3))\n",
        "print(arr)"
      ]
    },
    {
      "cell_type": "code",
      "execution_count": null,
      "metadata": {
        "colab": {
          "base_uri": "https://localhost:8080/"
        },
        "id": "gMXbOd3Z50dV",
        "outputId": "68ac15b0-490e-49ef-9fe3-922aa72b9996"
      },
      "outputs": [
        {
          "name": "stdout",
          "output_type": "stream",
          "text": [
            "array: [[81 78 75 59 98 55 91 21  7 27]\n",
            " [39 66  4 44 88 17 36 57 84 66]\n",
            " [25  7 29 51 43 94 66 21 34 66]\n",
            " [66 68 51 46 40 44 67 51 44 18]\n",
            " [68 70 67 93 10  3 74  7 20 94]\n",
            " [75 45 13 33 37 70 98 97 46 13]\n",
            " [76 14 31 74 24 24 28 30 43 82]\n",
            " [65 92 96 10 20 32 81 64 45 89]\n",
            " [73 56 88  3 88 26 38 59 15 24]\n",
            " [24 22 86 60 50 59 95 19  4 72]]\n",
            "minimum value in array: 3\n",
            "maximum value in array: 98\n"
          ]
        }
      ],
      "source": [
        "#Create a 10x10 array with random values and find the minimum and maximum values\n",
        "import numpy as np\n",
        "import random\n",
        "\n",
        "arr = np.random.randint(0,100,(10,10))\n",
        "print(f\"array: {arr}\")\n",
        "print(f\"minimum value in array: {arr.min()}\")\n",
        "print(f\"maximum value in array: {arr.max()}\")"
      ]
    },
    {
      "cell_type": "code",
      "execution_count": null,
      "metadata": {
        "colab": {
          "base_uri": "https://localhost:8080/"
        },
        "id": "q_KSQjf_6c5R",
        "outputId": "1ac54631-a72b-4751-ccd8-4aaf220f281b"
      },
      "outputs": [
        {
          "name": "stdout",
          "output_type": "stream",
          "text": [
            "vector : [0.06999332 0.1870551  0.69602836 0.57551593 0.64317107 0.18088335\n",
            " 0.55250582 0.41907729 0.4341001  0.95296547 0.01675588 0.90537974\n",
            " 0.0864906  0.99367229 0.3213428  0.54335284 0.60354677 0.31754905\n",
            " 0.86671381 0.95616791 0.37177487 0.79930308 0.48269934 0.15555716\n",
            " 0.80758719 0.85315584 0.61000677 0.15967162 0.13075172 0.42818492]\n",
            "mean : 0.5040320007201139\n"
          ]
        }
      ],
      "source": [
        "# Create a random vector of size 30 and find the mean value\n",
        "import numpy as np\n",
        "import random\n",
        "vector = np.random.random(30)\n",
        "print(f\"vector : {vector}\")\n",
        "print(f\"mean : {vector.mean()}\")\n"
      ]
    },
    {
      "cell_type": "code",
      "execution_count": null,
      "metadata": {
        "colab": {
          "base_uri": "https://localhost:8080/"
        },
        "id": "HhqikiVC7hpU",
        "outputId": "8efb529e-b537-4b8d-bea3-1b8d158499fd"
      },
      "outputs": [
        {
          "name": "stdout",
          "output_type": "stream",
          "text": [
            "[[1. 1. 1. 1. 1.]\n",
            " [1. 1. 1. 1. 1.]\n",
            " [1. 1. 1. 1. 1.]\n",
            " [1. 1. 1. 1. 1.]\n",
            " [1. 1. 1. 1. 1.]]\n",
            "\n",
            "[[1. 1. 1. 1. 1.]\n",
            " [1. 0. 0. 0. 1.]\n",
            " [1. 0. 0. 0. 1.]\n",
            " [1. 0. 0. 0. 1.]\n",
            " [1. 1. 1. 1. 1.]]\n"
          ]
        }
      ],
      "source": [
        "# Create a 2d array with 1 on the border and 0 inside\n",
        "import numpy as np\n",
        "arr = np.ones((5,5))\n",
        "print(arr)\n",
        "arr[1:-1,1:-1]=0\n",
        "print()\n",
        "print(arr)"
      ]
    },
    {
      "cell_type": "code",
      "execution_count": null,
      "metadata": {
        "id": "CVHLz0bS8YPu"
      },
      "outputs": [],
      "source": []
    }
  ],
  "metadata": {
    "colab": {
      "provenance": [],
      "include_colab_link": true
    },
    "kernelspec": {
      "display_name": "Python 3",
      "name": "python3"
    },
    "language_info": {
      "name": "python"
    }
  },
  "nbformat": 4,
  "nbformat_minor": 0
}